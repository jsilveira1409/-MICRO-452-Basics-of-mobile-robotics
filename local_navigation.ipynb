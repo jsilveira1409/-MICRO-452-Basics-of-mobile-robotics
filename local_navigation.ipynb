{
 "cells": [
  {
   "cell_type": "code",
   "execution_count": 1,
   "metadata": {},
   "outputs": [],
   "source": [
    "import tdmclient.notebook\n",
    "await tdmclient.notebook.start()"
   ]
  },
  {
   "cell_type": "code",
   "execution_count": 2,
   "metadata": {},
   "outputs": [],
   "source": [
    "import cv2\n",
    "from scipy.interpolate import interp1d\n",
    "import numpy as np\n"
   ]
  },
  {
   "cell_type": "code",
   "execution_count": 38,
   "metadata": {},
   "outputs": [],
   "source": [
    "global prox_horizontal, motor_right_target, motor_left_target\n",
    "\n",
    "motor_left_target = 0\n",
    "motor_right_target = 0"
   ]
  },
  {
   "cell_type": "code",
   "execution_count": 44,
   "metadata": {},
   "outputs": [],
   "source": [
    "%%run_python\n",
    "\n",
    "counting = 0\n",
    "time = 0\n",
    "side = 0\n",
    "\n",
    "timer_period[0] = 10 # milliseconds\n",
    "\n",
    "@onevent\n",
    "def prox():\n",
    "    global prox_horizontal, motor_right_target, motor_left_target, motor_left_speed, motor_right_speed, leds_top, counting, time, side\n",
    "\n",
    "    #200 = 8 cm/s\n",
    "\n",
    "    turn = (prox_horizontal[0]//2 + prox_horizontal[1] - prox_horizontal[3] - prox_horizontal[4]//2) //20\n",
    "\n",
    "    #if turn:\n",
    "    #    motor_left_target = 200 + turn - prox_horizontal[2]//15\n",
    "    #    motor_right_target = 200 - turn - prox_horizontal[2]//15\n",
    "    #    leds_top = [30,30,30]\n",
    "\n",
    "    if turn > 0 and counting == 0:\n",
    "        side = 2\n",
    "        counting = 1\n",
    "        time = 0\n",
    "        motor_left_target = 200\n",
    "        motor_right_target = -200\n",
    "\n",
    "    if side == 2 and counting == 2:\n",
    "        time = 0\n",
    "        counting = 3\n",
    "        motor_left_target = 200\n",
    "        motor_right_target = 400\n",
    "    \n",
    "    if side == 2 and counting == 4:\n",
    "        counting = 5\n",
    "        time = 0\n",
    "        motor_left_target = 200\n",
    "        motor_right_target = -200\n",
    "\n",
    "\n",
    "    if turn < 0 and counting == 0:\n",
    "        side = 1\n",
    "        counting = 1\n",
    "        time = 0\n",
    "        motor_left_target = -200\n",
    "        motor_right_target = 200\n",
    "\n",
    "    if side == 1 and counting == 2:\n",
    "        time = 0\n",
    "        counting = 3\n",
    "        motor_left_target = 400\n",
    "        motor_right_target = 200\n",
    "\n",
    "    if side == 1 and counting == 4:\n",
    "        counting = 5\n",
    "        time = 0\n",
    "        motor_left_target = -200\n",
    "        motor_right_target = 200\n",
    "\n",
    "\n",
    "    if turn == 0 and counting == 0:\n",
    "        motor_left_target = 200\n",
    "        motor_right_target = 200\n",
    "\n",
    "@onevent \n",
    "def timer0():\n",
    "    global counting, time\n",
    "    if counting != 0:\n",
    "        time = time + 1\n",
    "    if time == 120 and counting == 1:\n",
    "        counting = 2\n",
    "    if time == 600 and counting == 3:\n",
    "        counting = 4\n",
    "    if time == 120 and counting == 5:\n",
    "        counting = 0\n",
    "\n"
   ]
  },
  {
   "cell_type": "code",
   "execution_count": 30,
   "metadata": {},
   "outputs": [],
   "source": [
    "%%run_python\n",
    "\n",
    "counting = 0\n",
    "time = 0\n",
    "\n",
    "timer_period[0] = 10 # milliseconds\n",
    "\n",
    "@onevent \n",
    "def button_right(): # start counting\n",
    "    global counting, time, motor_left_target, motor_right_target\n",
    "    counting = 1\n",
    "    time = 0\n",
    "    motor_left_target = 100\n",
    "    motor_right_target = -100\n",
    "\n",
    "@onevent \n",
    "def button_center(): # stop counting\n",
    "    global counting, time, motor_left_target, motor_right_target\n",
    "    print(time)\n",
    "    counting = 0\n",
    "    motor_left_target = 0\n",
    "    motor_right_target = 0\n",
    "\n",
    "@onevent \n",
    "def timer0():\n",
    "    global counting, time\n",
    "    if counting == 1:\n",
    "        time = time + 1\n",
    "\n",
    "#takes 963 ms"
   ]
  }
 ],
 "metadata": {
  "kernelspec": {
   "display_name": "Python 3.10.7 64-bit",
   "language": "python",
   "name": "python3"
  },
  "language_info": {
   "codemirror_mode": {
    "name": "ipython",
    "version": 3
   },
   "file_extension": ".py",
   "mimetype": "text/x-python",
   "name": "python",
   "nbconvert_exporter": "python",
   "pygments_lexer": "ipython3",
   "version": "3.10.7"
  },
  "orig_nbformat": 4,
  "vscode": {
   "interpreter": {
    "hash": "aee8b7b246df8f9039afb4144a1f6fd8d2ca17a180786b69acc140d282b71a49"
   }
  }
 },
 "nbformat": 4,
 "nbformat_minor": 2
}
