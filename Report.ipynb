{
 "cells": [
  {
   "cell_type": "markdown",
   "id": "5402ecc7",
   "metadata": {},
   "source": [
    "# Final project of Mobile Robotique "
   ]
  },
  {
   "cell_type": "markdown",
   "id": "03150dbe",
   "metadata": {},
   "source": [
    "Student group number 19 : <br/>\n",
    "Kyan Achtari <br/>\n",
    "Louis Gavignet <br/>\n",
    "Louise Genoud <br/>\n",
    "Joaquim Silveira <br/>"
   ]
  },
  {
   "cell_type": "markdown",
   "id": "f53fc157",
   "metadata": {},
   "source": [
    "# Introduction\n",
    "<br/>\n",
    "The project of Mobile Robotique aims to combine vision, path planning, global navigation, local navigation, and filtering with a kalman filter to move Thymio to the goal.\n",
    "<br/><br/>\n",
    "We first create a map composed of differents elements : black obstacles where the Thymio must never go, a blue triangle on Thymio to get his position and orientation in real time, a red square goal, and white small obstacles invisible to the camera.  The camera, using the vision modulus, gets the coordinates of every elements on the map from which we extracts a path. We then use the path planning with Dijkstra to extract the best suited path. \n",
    "<br/><br/>\n",
    "While following the path, Thymio may enconters obstacles not detected by the camera. That's why it constantly scans the near environment with the IR sensors, when one is triggered Thymio avoids the obstacles using local navigation.\n",
    "<br/><br/>\n",
    "The robot also use a filter to estimate the position with the help of sensors (camera and motor speed) and to correct it. We choose to implement the kalman filter, which shows a strong efficiency even when the camera is blocked."
   ]
  },
  {
   "cell_type": "markdown",
   "id": "cbc8d1c5",
   "metadata": {},
   "source": [
    "# Implementaion with vision"
   ]
  },
  {
   "cell_type": "markdown",
   "id": "526dfc41",
   "metadata": {},
   "source": [
    "### Software and hardware setup"
   ]
  },
  {
   "cell_type": "markdown",
   "id": "d3868f58",
   "metadata": {},
   "source": []
  },
  {
   "cell_type": "markdown",
   "id": "45c99c60",
   "metadata": {},
   "source": [
    "### Global map setup and construction via image processing"
   ]
  },
  {
   "cell_type": "markdown",
   "id": "f0fdf0b0",
   "metadata": {},
   "source": []
  },
  {
   "cell_type": "markdown",
   "id": "5cdcb6f9",
   "metadata": {},
   "source": [
    "# Path planning"
   ]
  },
  {
   "cell_type": "markdown",
   "id": "2e48ff9d",
   "metadata": {},
   "source": []
  },
  {
   "cell_type": "markdown",
   "id": "58291ef9",
   "metadata": {},
   "source": [
    "# Motion control"
   ]
  },
  {
   "cell_type": "markdown",
   "id": "25220ea2",
   "metadata": {},
   "source": [
    "### Global navigation"
   ]
  },
  {
   "cell_type": "markdown",
   "id": "271dfb01",
   "metadata": {},
   "source": []
  },
  {
   "cell_type": "markdown",
   "id": "16cdab62",
   "metadata": {},
   "source": [
    "### Local navigation"
   ]
  },
  {
   "cell_type": "markdown",
   "id": "a2e828c2",
   "metadata": {},
   "source": []
  },
  {
   "cell_type": "markdown",
   "id": "9d787d65",
   "metadata": {},
   "source": [
    "# Filtering with Kalman filter "
   ]
  },
  {
   "cell_type": "markdown",
   "id": "f3188479",
   "metadata": {},
   "source": [
    "### Overview"
   ]
  },
  {
   "cell_type": "markdown",
   "id": "49d89288",
   "metadata": {},
   "source": [
    "We implemented an extended Kalman filter while considering a linear gaussian state space model, our state are $X = (x,y, \\theta)$. The states are modified by the speed of the left and right motors U = (left_speed, right_speed). The linear modification of each paramters can be modelled like this : \n",
    "$$ x_{t+1} = x_{t} + v_{average}*dt*cos(\\theta) $$ \n",
    "$$ y_{t+1} = y_{t} + v_{average}*dt*sin(\\theta) $$ \n",
    "$$ \\theta_{t+1} = \\theta_{t} + dt*\\omega $$  \n",
    "\n",
    "<c/><c/>\n",
    "The state X follows the systeme :\n",
    "$$ X_{t+1} = AU + BU $$\n",
    "\n",
    "<c/><c/>\n",
    "With the following matrices A and B :\n",
    "$$\n",
    "A = \n",
    "\\left(\\begin{array}{cc} \n",
    "1 & 0 & 0 \\\\\n",
    "0 & 1 & 0 \\\\\n",
    "0 & 0 & 1 \\\\\n",
    "\\end{array}\\right)\n",
    "$$\n",
    "\n",
    "$$\n",
    "B = \n",
    "\\left(\\begin{array}{cc} \n",
    "0.5*dt*cos(\\theta) & 0.5*dt*cos(\\theta)\\\\\n",
    "0.5*dt*sin(\\theta) & 0.5*dt*sin(\\theta) \\\\\n",
    "-dt/wheeldist & dt/wheeeldist \\\\\n",
    "\\end{array}\\right)\n",
    "$$\n"
   ]
  },
  {
   "cell_type": "markdown",
   "id": "6c7e0b7b",
   "metadata": {},
   "source": [
    "### Key paramters"
   ]
  },
  {
   "cell_type": "markdown",
   "id": "00c6428b",
   "metadata": {},
   "source": [
    "The covariance matrix of the state stochastic perturbation Q, contains the variance of the motors speed : \n",
    "\n",
    "$$ \n",
    "Q = \n",
    "\\left(\\begin{array}{cc}\n",
    "speedvar & 0\\\\\n",
    "0 & speedvar\\\\\n",
    "\\end{array}\\right)\n",
    "$$\n",
    "\n",
    "<br/>\n",
    "The covariance matrix R related to the measurements noise, errors come from the camera as 2 pixels on the axis x and y, and for the ore=ientaation error it is related to the propagation of the error on the 2D axis alog the leght of the robot :\n",
    "\n",
    "$$ \n",
    "R = \n",
    "\\left(\\begin{array}{cc}\n",
    "camvar & 0 & 0\\\\\n",
    "0 & camvar & 0\\\\\n",
    "0 & 0 & camanglevar\\\\\n",
    "\\end{array}\\right)\n",
    "$$"
   ]
  },
  {
   "cell_type": "code",
   "execution_count": null,
   "id": "ca32cb3d",
   "metadata": {},
   "outputs": [],
   "source": []
  }
 ],
 "metadata": {
  "kernelspec": {
   "display_name": "Python 3",
   "language": "python",
   "name": "python3"
  },
  "language_info": {
   "codemirror_mode": {
    "name": "ipython",
    "version": 3
   },
   "file_extension": ".py",
   "mimetype": "text/x-python",
   "name": "python",
   "nbconvert_exporter": "python",
   "pygments_lexer": "ipython3",
   "version": "3.7.4"
  }
 },
 "nbformat": 4,
 "nbformat_minor": 5
}
