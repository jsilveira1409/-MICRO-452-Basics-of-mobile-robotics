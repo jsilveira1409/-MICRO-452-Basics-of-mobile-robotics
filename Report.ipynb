{
 "cells": [
  {
   "cell_type": "markdown",
   "id": "924a3ca3",
   "metadata": {},
   "source": [
    "# Final project of Mobile Robotique "
   ]
  },
  {
   "cell_type": "markdown",
   "id": "3e306587",
   "metadata": {},
   "source": [
    "Student group number 19 : <br/>\n",
    "Kyan Achtari <br/>\n",
    "Louis Gavignet <br/>\n",
    "Louise Genoud <br/>\n",
    "Joaquim Silveira <br/>"
   ]
  },
  {
   "cell_type": "markdown",
   "id": "0738bd8d",
   "metadata": {},
   "source": [
    "# Introduction\n",
    "<br/>\n",
    "The project of Mobile Robotique aims to combine vision, path planning, global navigation, local navigation, and filtering with a kalman filter to move Thymio to the goal.\n",
    "<br/><br/>\n",
    "We first create a map composed of differents elements : black obstacles where the Thymio must never go, a blue triangle on Thymio to get his position and orientation in real time, a red square goal, and white small obstacles invisible to the camera.  The camera, using the vision modulus, gets the coordinates of every elements on the map from which we extracts a path. We then use the path planning with Dijkstra to extract the best suited path. \n",
    "<br/><br/>\n",
    "While following the path, Thymio may enconters obstacles not detected by the camera. That's why it constantly scans the near environment with the IR sensors, when one is triggered Thymio avoids the obstacles using local navigation.\n",
    "<br/><br/>\n",
    "The robot also use a filter to estimate the position with the help of sensors (camera and motor speed) and to correct it. We choose to implement the kalman filter, which shows a strong efficiency even when the camera is blocked."
   ]
  },
  {
   "cell_type": "markdown",
   "id": "9ebf9770",
   "metadata": {},
   "source": [
    "# Implementaion with vision"
   ]
  },
  {
   "cell_type": "markdown",
   "id": "1aa28b61",
   "metadata": {},
   "source": [
    "### Software and hardware setup"
   ]
  },
  {
   "cell_type": "markdown",
   "id": "89db976e",
   "metadata": {},
   "source": []
  },
  {
   "cell_type": "markdown",
   "metadata": {},
   "source": [
    "### Global map setup and construction via image processing"
   ]
  },
  {
   "cell_type": "markdown",
   "metadata": {},
   "source": []
  },
  {
   "cell_type": "markdown",
   "metadata": {},
   "source": [
    "# Path planning"
   ]
  },
  {
   "cell_type": "markdown",
   "id": "679a0285",
   "metadata": {},
   "source": []
  },
  {
   "cell_type": "markdown",
   "metadata": {},
   "source": [
    "# Motion control"
   ]
  },
  {
   "cell_type": "markdown",
   "metadata": {},
   "source": [
    "### Global navigation"
   ]
  },
  {
   "cell_type": "markdown",
   "metadata": {},
   "source": [
    "##### Implementation of the mouvement\n",
    "We create a fonction called pathing() that uses all the functions needed for mouving Thymio. In every iteration, pathing calls the camera, kalman, and refers to the path given by the path planning. Thymio mouves continiously and actuate the speed of his motors thanks to a proportionnal controller.\n",
    "\n",
    "##### Rotation \n",
    "When Thymio arrives to an intermediate goal, he has to change his orientation to go to the next one. The function get_angle_between() gives the difference between the angles"
   ]
  },
  {
   "cell_type": "raw",
   "metadata": {},
   "source": [
    "def get_angle_between(vec1, vec2):\n",
    "    vec1_unit = vec1 / np.linalg.norm(vec1)\n",
    "    vec2_unit = vec2 / np.linalg.norm(vec2)\n",
    "\n",
    "    return np.arccos(np.dot(vec1_unit, vec2_unit))"
   ]
  },
  {
   "cell_type": "markdown",
   "metadata": {},
   "source": [
    "Then, we make sure the angle belongs to the interval -pi, pi"
   ]
  },
  {
   "cell_type": "raw",
   "metadata": {},
   "source": [
    "def wrap_angle(angle):\n",
    "    if angle > math.pi:\n",
    "        angle = angle - 2*math.pi\n",
    "    elif angle < -math.pi:\n",
    "        angle = angle + 2*math.pi\n",
    "    return angle"
   ]
  },
  {
   "cell_type": "markdown",
   "metadata": {},
   "source": [
    "##### Controller\n",
    "\n",
   ]
  },
  {
   "cell_type": "raw",
   "metadata": {},
   "source": [
    "def controller(angle)\n",
    "    if abs(angle) > ANGLE_TOLERANCE:\n",
    "                speed_l = 80 - kp_rot*(angle)\n",
    "                speed_r = 80 + kp_rot*(angle)\n",
    "            else:\n",
    "                speed_l = SPEED_AVG\n",
    "                speed_r = SPEED_AVG\n",
    "    return speed_l, speed_r"
   ]
  },
  {
   "cell_type": "markdown",
   "metadata": {},
   "source": [
    "### Local navigation"
   ]
  },
  {
   "cell_type": "markdown",
   "metadata": {},
   "source": [
    "To avoid the obstacles we setup a PI, which is a vector storing the last 3 seconds of the \"turn\" value :\n",
    "\n",
    "$$ turn = (prox.horizontal[0] //2 + prox.horizontal[1] - prox.horizontal[3] - prox.horizontal[4] //2) // 40 $$\n",
    "\n",
    "The turn value is positive if an obstacle is on the left and negative with an obstacle on the right, taking more into account the middle sensors since it would need to avoid the obstacle more.\n",
    "\n",
    "$$ turn = turn + ki*prox_int $$\n",
    "\n",
    "ki is a vector containing the \"weights\" for the vector of values from the sensors (prox_int). ki contains the values from 1 to 3 times the sampling period, all divided by 20 to take the more recent values more into account. The left wheel is then decelerated by the value of \"turn\", and the right wheel accelerated by it.\n",
    "\n",
    "After 3 seconds if the sensors don't see anything, we return to global navigation instead of local navigation."
   ]
  },
  {
   "cell_type": "markdown",
   "metadata": {},
   "source": [
    "# Filtering with Kalman filter "
   ]
  },
  {
   "cell_type": "markdown",
   "metadata": {},
   "source": [
    "### Overview and prediction"
   ]
  },
  {
   "cell_type": "markdown",
   "metadata": {},
   "source": [
    "To calculate the beliefs of the robot position we setup a Bayes filter. It's a recrsive filter taht calculte first a prediction of the robot positioon and then update the measurement. We implemented an extended Kalman filter because we conside a nonlinear gaussian state space model, our state are $X = (x,y, \\theta)$. The states are modified by the speed of the left and right motors U = (speed_left, spped_right). The nonlinear modification of each paramters can be modelled like this : \n",
    "$$ x_{t+1} = x_{t} + v_{average}*dt*cos(\\theta) $$ \n",
    "$$ y_{t+1} = y_{t} + v_{average}*dt*sin(\\theta) $$ \n",
    "$$ \\theta_{t+1} = \\theta_{t} + dt*\\omega $$  \n",
    "\n",
    "<c/><c/>\n",
    "We can write the systeme above with some matrices :\n",
    "$$ X_{t+1} = A*X_{t} + B*U $$\n",
    "\n",
    "<c/><c/>\n",
    "With the following matrices A and B :\n",
    "$$\n",
    "A = \n",
    "\\left(\\begin{array}{cc} \n",
    "1 & 0 & 0 \\\\\n",
    "0 & 1 & 0 \\\\\n",
    "0 & 0 & 1 \\\\\n",
    "\\end{array}\\right)\n",
    "$$\n",
    "\n",
    "$$\n",
    "B = \n",
    "\\left(\\begin{array}{cc} \n",
    "0.5*dt*cos(\\theta) & 0.5*dt*cos(\\theta)\\\\\n",
    "0.5*dt*sin(\\theta) & 0.5*dt*sin(\\theta) \\\\\n",
    "-dt/wheeldist & dt/wheeeldist \\\\\n",
    "\\end{array}\\right)\n",
    "$$\n"
   ]
  },
  {
   "cell_type": "markdown",
   "metadata": {},
   "source": [
    "The state transition covariance matrix Q, contains the variance of the motors speed :\n",
    "\n",
    "$$ \n",
    "Q = \n",
    "\\left(\\begin{array}{cc}\n",
    "speedvar & 0\\\\\n",
    "0 & speedvar\\\\\n",
    "\\end{array}\\right)\n",
    "$$\n",
    "\n",
    "<br/>\n",
    "The covariance of the obervation noise matrix R, errors come from the camera when measuring a known object :\n",
    "\n",
    "$$ \n",
    "R = \n",
    "\\left(\\begin{array}{cc}\n",
    "camvar & 0 & 0\\\\\n",
    "0 & camvar & 0\\\\\n",
    "0 & 0 & camanglevar\\\\\n",
    "\\end{array}\\right)\n",
    "$$"
   ]
  },
  {
   "cell_type": "markdown",
   "metadata": {},
   "source": [
    "### Prediction"
   ]
  },
  {
   "cell_type": "markdown",
   "metadata": {},
   "source": [
    "We can predict the next position of the robot thanks to the set of equations of the nonlinear $X_{t+1}$. We calculate the predication every time interval dt, this periode corresponds to actuation time of our robot. Every dt we calculate the new orientation to follow the path, we update the speed of the motors, and we check with the Kalman filter that Thymio is on the right path.\n",
    "\n",
    "We also compute the prediction of an estimate of the covariance in this function :\n",
    "$P = P+B*Q*B^T$"
   ]
  },
  {
   "cell_type": "markdown",
   "metadata": {},
   "source": [
    "### Update "
   ]
  },
  {
   "cell_type": "markdown",
   "metadata": {},
   "source": [
    "Update the Kalman filter state estimate previously with the Kalman gain K, and the difference between the actual state z and the predicted one x. In the mean time, we update the values of P.\n",
    "\n",
    "$$I = z-X$$\n",
    "and $$K = P*H^T*S$$  with $$S=R+H*P^T*H$$\n",
    "then $$X=X+K*I$$\n",
    "and $$P = P-K*H*P$$"
   ]
  },
  {
   "cell_type": "markdown",
   "metadata": {},
   "source": [
    "### Filter"
   ]
  },
  {
   "cell_type": "markdown",
   "metadata": {},
   "source": [
    "We then implement the filter function by calling the prediction function and the update function in this order every dt"
   ]
  },
  {
   "cell_type": "code",
   "execution_count": null,
   "metadata": {},
   "outputs": [],
   "source": []
  }
 ],
 "metadata": {
  "kernelspec": {
   "display_name": "Python 3",
   "language": "python",
   "name": "python3"
  },
  "language_info": {
   "codemirror_mode": {
    "name": "ipython",
    "version": 3
   },
   "file_extension": ".py",
   "mimetype": "text/x-python",
   "name": "python",
   "nbconvert_exporter": "python",
   "pygments_lexer": "ipython3",
   "version": "3.7.4"
  }
 },
 "nbformat": 4,
 "nbformat_minor": 5
}
