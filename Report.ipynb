{
 "cells": [
  {
   "cell_type": "markdown",
   "id": "0f5b94b2",
   "metadata": {},
   "source": [
    "# Final project of Mobile Robotique "
   ]
  },
  {
   "cell_type": "markdown",
   "id": "89c29f42",
   "metadata": {},
   "source": [
    "Student group number 19 : <br/>\n",
    "Kyan Achtari <br/>\n",
    "Louis Gavignet <br/>\n",
    "Louise Genoud <br/>\n",
    "Joaquim Silveira <br/>"
   ]
  },
  {
   "cell_type": "markdown",
   "id": "7f10ef0e",
   "metadata": {},
   "source": [
    "# Introduction\n",
    "<br/>\n",
    "The project of Mobile Robotique aims to combine vision, path planning, global navigation, local navigation, and filtering with a kalman filter to move Thymio to the goal.\n",
    "<br/><br/>\n",
    "We first create a map composed of differents elements : black obstacles where the Thymio must never go, a blue triangle on Thymio to get his position and orientation in real time, a red square goal, and white small obstacles invisible to the camera.  The camera, using the vision modulus, gets the coordinates of every elements on the map from which we extracts a path. We then use the path planning with Dijkstra to extract the best suited path. \n",
    "<br/><br/>\n",
    "While following the path, Thymio may enconters obstacles not detected by the camera. That's why it constantly scans the near environment with the IR sensors, when one is triggered Thymio avoids the obstacles using local navigation.\n",
    "<br/><br/>\n",
    "The robot also use a filter to estimate the position with the help of sensors (camera and motor speed) and to correct it. We choose to implement the kalman filter, which shows a strong efficiency even when the camera is blocked."
   ]
  },
  {
   "cell_type": "markdown",
   "id": "32fbd51d",
   "metadata": {},
   "source": [
    "# Implementaion with vision"
   ]
  },
  {
   "cell_type": "markdown",
   "id": "e53b8d50",
   "metadata": {},
   "source": [
    "### Software and hardware setup"
   ]
  },
  {
   "cell_type": "markdown",
   "id": "065da51e",
   "metadata": {},
   "source": []
  },
  {
   "cell_type": "markdown",
   "id": "ed938c60",
   "metadata": {},
   "source": [
    "### Global map setup and construction via image processing"
   ]
  },
  {
   "cell_type": "markdown",
   "id": "11c55050",
   "metadata": {},
   "source": []
  },
  {
   "cell_type": "markdown",
   "id": "1a9da115",
   "metadata": {},
   "source": [
    "# Path planning"
   ]
  },
  {
   "cell_type": "markdown",
   "id": "707f152d",
   "metadata": {},
   "source": []
  },
  {
   "cell_type": "markdown",
   "id": "0e16c35e",
   "metadata": {},
   "source": [
    "# Motion control"
   ]
  },
  {
   "cell_type": "markdown",
   "id": "01cd76c4",
   "metadata": {},
   "source": [
    "### Global navigation"
   ]
  },
  {
   "cell_type": "markdown",
   "id": "057ff2cc",
   "metadata": {},
   "source": [
    "##### Implementation of the mouvement\n",
    "We create a fonction called pathing() that uses all the functions needed for mouving Thymio. In every iteration, pathing calls the camera, kalman, and refers to the path given by the path planning. Thymio mouves continiously and actuate the speed of his motors thanks to a proportionnal controller.\n",
    "\n",
    "##### Rotation \n",
    "When Thymio arrives to an intermediate goal, he has to change his orientation to go to the next one. The function get_angle_between() gives the difference between the angles"
   ]
  },
  {
   "cell_type": "raw",
   "id": "30736759",
   "metadata": {},
   "source": [
    "def get_angle_between(vec1, vec2):\n",
    "    vec1_unit = vec1 / np.linalg.norm(vec1)\n",
    "    vec2_unit = vec2 / np.linalg.norm(vec2)\n",
    "\n",
    "    return np.arccos(np.dot(vec1_unit, vec2_unit))"
   ]
  },
  {
   "cell_type": "markdown",
   "id": "dbaa0cb7",
   "metadata": {},
   "source": [
    "Then, we make sure the angle belongs to the interval -pi, pi :"
   ]
  },
  {
   "cell_type": "raw",
   "id": "f0237fc0",
   "metadata": {},
   "source": [
    "def wrap_angle(angle):\n",
    "    if angle > math.pi:\n",
    "        angle = angle - 2*math.pi\n",
    "    elif angle < -math.pi:\n",
    "        angle = angle + 2*math.pi\n",
    "    return angle"
   ]
  },
  {
   "cell_type": "markdown",
   "id": "cc62be62",
   "metadata": {},
   "source": [
    "##### Controller\n",
    "\n",
    "We use a proportionnal controller to set the speed of the motors. It takes into account the angle for the correcting or new orientation. We also set a angle minimum under which the robot won't turn, the kalman correction can be very precice so we don't take it in consideration every time. This angle minimum equals 0.4 radians, corresponding to 23 degrees. "
   ]
  },
  {
   "cell_type": "raw",
   "id": "836024ab",
   "metadata": {},
   "source": [
    "def controller(angle)\n",
    "    if abs(angle) > ANGLE_TOLERANCE:\n",
    "                speed_l = 80 - kp_rot*(angle)\n",
    "                speed_r = 80 + kp_rot*(angle)\n",
    "            else:\n",
    "                speed_l = SPEED_AVG\n",
    "                speed_r = SPEED_AVG\n",
    "    return speed_l, speed_r"
   ]
  },
  {
   "cell_type": "markdown",
   "id": "1eb09e53",
   "metadata": {},
   "source": [
    "### Local navigation"
   ]
  },
  {
   "cell_type": "markdown",
   "id": "1ac4aaef",
   "metadata": {},
   "source": [
    "We first read the 7 horizontal sensor values, stored in \"prox.vals\", which we multiply by IR.SCALE.DOWN (which is 0.05), if any of them is non-zero, we enter obstacle avoidance:\n",
    "\n",
    "Then we multiply the sensor vector by LEFT.IR.WEIGHT and RIGHT.IR.WEIGHT for each wheel:\n",
    "\n",
    "$$\n",
    "LEFT.IR.WEIGHT = - RIGHT.IR.WEIGHT =\n",
    "\\left(\\begin{array}{cc} \n",
    "1 \\\\\n",
    "2 \\\\\n",
    "5 \\\\\n",
    "-2 \\\\\n",
    "-1 \\\\\n",
    "0 \\\\\n",
    "0 \\\\\n",
    "\\end{array}\\right)\n",
    "$$\n",
    "\n",
    "The speed of each wheel is then their respective weight multiplied by the sensor values, and + 10 :"
   ]
  },
  {
   "cell_type": "raw",
   "id": "a6e3f44a",
   "metadata": {},
   "source": [
    "if sum(prox_vals) > 0:\n",
    "    speed_l = sum(prox_vals * LEFT_IR_WEIGHT)  + 10\n",
    "    speed_r = sum(prox_vals * RIGHT_IR_WEIGHT) + 10"
   ]
  },
  {
   "cell_type": "markdown",
   "id": "416aeaea",
   "metadata": {},
   "source": [
    "# Filtering with Kalman filter "
   ]
  },
  {
   "cell_type": "markdown",
   "id": "645640f5",
   "metadata": {},
   "source": [
    "### Overview and prediction"
   ]
  },
  {
   "cell_type": "markdown",
   "id": "da4b5f39",
   "metadata": {},
   "source": [
    "To calculate the beliefs of the robot position we setup a Bayes filter. It's a recrsive filter taht calculte first a prediction of the robot positioon and then update the measurement. We implemented an extended Kalman filter because we conside a nonlinear gaussian state space model, our state are $X = (x,y, \\theta)$. The states are modified by the speed of the left and right motors U = (speed_left, spped_right). The nonlinear modification of each paramters can be modelled like this : \n",
    "$$ x_{t+1} = x_{t} + v_{average}*dt*cos(\\theta) $$ \n",
    "$$ y_{t+1} = y_{t} + v_{average}*dt*sin(\\theta) $$ \n",
    "$$ \\theta_{t+1} = \\theta_{t} + dt*\\omega $$  \n",
    "\n",
    "<c/><c/>\n",
    "We can write the systeme above with some matrices :\n",
    "$$ X_{t+1} = A*X_{t} + B*U $$\n",
    "\n",
    "<c/><c/>\n",
    "With the following matrices A and B :\n",
    "$$\n",
    "A = \n",
    "\\left(\\begin{array}{cc} \n",
    "1 & 0 & 0 \\\\\n",
    "0 & 1 & 0 \\\\\n",
    "0 & 0 & 1 \\\\\n",
    "\\end{array}\\right)\n",
    "$$\n",
    "\n",
    "$$\n",
    "B = \n",
    "\\left(\\begin{array}{cc} \n",
    "0.5*dt*cos(\\theta) & 0.5*dt*cos(\\theta)\\\\\n",
    "0.5*dt*sin(\\theta) & 0.5*dt*sin(\\theta) \\\\\n",
    "-dt/wheeldist & dt/wheeeldist \\\\\n",
    "\\end{array}\\right)\n",
    "$$\n"
   ]
  },
  {
   "cell_type": "markdown",
   "id": "7147f764",
   "metadata": {},
   "source": [
    "The state transition covariance matrix Q, contains the variance of the motors speed :\n",
    "\n",
    "$$ \n",
    "Q = \n",
    "\\left(\\begin{array}{cc}\n",
    "speedvar & 0\\\\\n",
    "0 & speedvar\\\\\n",
    "\\end{array}\\right)\n",
    "$$\n",
    "\n",
    "<br/>\n",
    "The covariance of the obervation noise matrix R, errors come from the camera when measuring a known object :\n",
    "\n",
    "$$ \n",
    "R = \n",
    "\\left(\\begin{array}{cc}\n",
    "camvar & 0 & 0\\\\\n",
    "0 & camvar & 0\\\\\n",
    "0 & 0 & camanglevar\\\\\n",
    "\\end{array}\\right)\n",
    "$$"
   ]
  },
  {
   "cell_type": "markdown",
   "id": "1b8cdad5",
   "metadata": {},
   "source": [
    "### Prediction"
   ]
  },
  {
   "cell_type": "markdown",
   "id": "d318041d",
   "metadata": {},
   "source": [
    "We can predict the next position of the robot thanks to the set of equations of the nonlinear $X_{t+1}$. We calculate the predication every time interval dt, this periode corresponds to actuation time of our robot. Every dt we calculate the new orientation to follow the path, we update the speed of the motors, and we check with the Kalman filter that Thymio is on the right path.\n",
    "\n",
    "We also compute the prediction of an estimate of the covariance in this function :\n",
    "$P = P+B*Q*B^T$"
   ]
  },
  {
   "cell_type": "markdown",
   "id": "4ace4235",
   "metadata": {},
   "source": [
    "### Update "
   ]
  },
  {
   "cell_type": "markdown",
   "id": "703ac544",
   "metadata": {},
   "source": [
    "Update the Kalman filter state estimate previously with the Kalman gain K, and the difference between the actual state z and the predicted one x. In the mean time, we update the values of P.\n",
    "\n",
    "$$I = z-X$$\n",
    "and $$K = P*H^T*S$$  with $$S=R+H*P^T*H$$\n",
    "then $$X=X+K*I$$\n",
    "and $$P = P-K*H*P$$"
   ]
  },
  {
   "cell_type": "markdown",
   "id": "39c475c6",
   "metadata": {},
   "source": [
    "### Filter"
   ]
  },
  {
   "cell_type": "markdown",
   "id": "946c067d",
   "metadata": {},
   "source": [
    "We then implement the filter function by calling the prediction function and the update function in this order every dt"
   ]
  },
  {
   "cell_type": "code",
   "execution_count": null,
   "id": "8cf3c182",
   "metadata": {},
   "outputs": [],
   "source": []
  }
 ],
 "metadata": {
  "kernelspec": {
   "display_name": "Python 3 (ipykernel)",
   "language": "python",
   "name": "python3"
  },
  "language_info": {
   "codemirror_mode": {
    "name": "ipython",
    "version": 3
   },
   "file_extension": ".py",
   "mimetype": "text/x-python",
   "name": "python",
   "nbconvert_exporter": "python",
   "pygments_lexer": "ipython3",
   "version": "3.10.7"
  }
 },
 "nbformat": 4,
 "nbformat_minor": 5
}
