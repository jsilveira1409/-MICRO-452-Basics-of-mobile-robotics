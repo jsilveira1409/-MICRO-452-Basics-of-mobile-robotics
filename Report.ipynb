{
 "cells": [
  {
   "cell_type": "markdown",
   "id": "6ad6287a",
   "metadata": {},
   "source": [
    "# Final project of Mobile Robotique "
   ]
  },
  {
   "cell_type": "markdown",
   "id": "423d833c",
   "metadata": {},
   "source": [
    "Student group number 19 : <br/>\n",
    "Kyan Achtari <br/>\n",
    "Louis Gavignet <br/>\n",
    "Louise Genoud <br/>\n",
    "Joaquim Silveira <br/>"
   ]
  },
  {
   "cell_type": "markdown",
   "id": "f0a942b6",
   "metadata": {},
   "source": [
    "# Introduction\n",
    "<br/>\n",
    "The project of Mobile Robotique aims to combine vision, path planning, global navigation, local navigation, and filtering with a kalman filter to move Thymio to the goal.\n",
    "<br/><br/>\n",
    "We first create a map composed of differents elements : black obstacles where the Thymio must never go, a blue triangle on Thymio to get his position and orientation in real time, a red square goal, and white small obstacles invisible to the camera.  The camera, using the vision modulus, gets the coordinates of every elements on the map from which we extracts a path. We then use the path planning with Dijkstra to extract the best suited path. \n",
    "<br/><br/>\n",
    "While following the path, Thymio may enconters obstacles not detected by the camera. That's why it constantly scans the near environment with the IR sensors, when one is triggered Thymio avoids the obstacles using local navigation.\n",
    "<br/><br/>\n",
    "The robot also use a filter to estimate the position with the help of sensors (camera and motor speed) and to correct it. We choose to implement the kalman filter, which shows a strong efficiency even when the camera is blocked."
   ]
  },
  {
   "cell_type": "markdown",
   "id": "84a25d73",
   "metadata": {},
   "source": [
    "# Implementaion with vision"
   ]
  },
  {
   "cell_type": "markdown",
   "id": "c75ed5cb",
   "metadata": {},
   "source": [
    "### Software and hardware setup"
   ]
  },
  {
   "cell_type": "markdown",
   "id": "011aaee6",
   "metadata": {},
   "source": []
  },
  {
   "cell_type": "markdown",
   "id": "36c12772",
   "metadata": {},
   "source": [
    "### Global map setup and construction via image processing"
   ]
  },
  {
   "cell_type": "markdown",
   "id": "7d743871",
   "metadata": {},
   "source": []
  },
  {
   "cell_type": "markdown",
   "id": "2a1915e0",
   "metadata": {},
   "source": [
    "# Path planning"
   ]
  },
  {
   "cell_type": "markdown",
   "id": "4b9ec8a5",
   "metadata": {},
   "source": []
  },
  {
   "cell_type": "markdown",
   "id": "81d61ea9",
   "metadata": {},
   "source": [
    "# Motion control"
   ]
  },
  {
   "cell_type": "markdown",
   "id": "fb4c440b",
   "metadata": {},
   "source": [
    "### Global navigation"
   ]
  },
  {
   "cell_type": "markdown",
   "id": "f38388c7",
   "metadata": {},
   "source": []
  },
  {
   "cell_type": "markdown",
   "id": "78ce9d03",
   "metadata": {},
   "source": [
    "### Local navigation"
   ]
  },
  {
   "cell_type": "markdown",
   "id": "5a4665ca",
   "metadata": {},
   "source": []
  },
  {
   "cell_type": "markdown",
   "id": "dc5f10df",
   "metadata": {},
   "source": [
    "# Filtering with Kalman filter "
   ]
  },
  {
   "cell_type": "markdown",
   "id": "462d5ab6",
   "metadata": {},
   "source": [
    "### Overview and prediction"
   ]
  },
  {
   "cell_type": "markdown",
   "id": "57df6b7a",
   "metadata": {},
   "source": [
    "To calculate the beliefs of the robot position we setup a Bayes filter. It's a recrsive filter taht calculte first a prediction of the robot positioon and then update the measurement. We implemented an extended Kalman filter because we conside a nonlinear gaussian state space model, our state are $X = (x,y, \\theta)$. The states are modified by the speed of the left and right motors U = (speed_left, spped_right). The nonlinear modification of each paramters can be modelled like this : \n",
    "$$ x_{t+1} = x_{t} + v_{average}*dt*cos(\\theta) $$ \n",
    "$$ y_{t+1} = y_{t} + v_{average}*dt*sin(\\theta) $$ \n",
    "$$ \\theta_{t+1} = \\theta_{t} + dt*\\omega $$  \n",
    "\n",
    "<c/><c/>\n",
    "We can write the systeme above with some matrices :\n",
    "$$ X_{t+1} = A*X_{t} + B*U $$\n",
    "\n",
    "<c/><c/>\n",
    "With the following matrices A and B :\n",
    "$$\n",
    "A = \n",
    "\\left(\\begin{array}{cc} \n",
    "1 & 0 & 0 \\\\\n",
    "0 & 1 & 0 \\\\\n",
    "0 & 0 & 1 \\\\\n",
    "\\end{array}\\right)\n",
    "$$\n",
    "\n",
    "$$\n",
    "B = \n",
    "\\left(\\begin{array}{cc} \n",
    "0.5*dt*cos(\\theta) & 0.5*dt*cos(\\theta)\\\\\n",
    "0.5*dt*sin(\\theta) & 0.5*dt*sin(\\theta) \\\\\n",
    "-dt/wheeldist & dt/wheeeldist \\\\\n",
    "\\end{array}\\right)\n",
    "$$\n"
   ]
  },
  {
   "cell_type": "markdown",
   "id": "101833ef",
   "metadata": {},
   "source": [
    "The state transition covariance matrix Q, contains the variance of the motors speed :\n",
    "\n",
    "$$ \n",
    "Q = \n",
    "\\left(\\begin{array}{cc}\n",
    "speedvar & 0\\\\\n",
    "0 & speedvar\\\\\n",
    "\\end{array}\\right)\n",
    "$$\n",
    "\n",
    "<br/>\n",
    "The covariance of the obervation noise matrix R, errors come from the camera when measuring a known object :\n",
    "\n",
    "$$ \n",
    "R = \n",
    "\\left(\\begin{array}{cc}\n",
    "camvar & 0 & 0\\\\\n",
    "0 & camvar & 0\\\\\n",
    "0 & 0 & camanglevar\\\\\n",
    "\\end{array}\\right)\n",
    "$$"
   ]
  },
  {
   "cell_type": "markdown",
   "id": "4f788486",
   "metadata": {},
   "source": [
    "### Prediction"
   ]
  },
  {
   "cell_type": "markdown",
   "id": "efdfc15a",
   "metadata": {},
   "source": [
    "We can predict the next position of the robot thanks to the set of equations of the nonlinear $X_{t+1}$. We calculate the predication every time interval dt, this periode corresponds to actuation time of our robot. Every dt we calculate the new orientation to follow the path, we update the speed of the motors, and we check with the Kalman filter that Thymio is on the right path.\n",
    "\n",
    "We also compute the prediction of an estimate of the covariance in this function :\n",
    "$P = P+B*Q*B^T$"
   ]
  },
  {
   "cell_type": "markdown",
   "id": "a93a9d52",
   "metadata": {},
   "source": [
    "### Update "
   ]
  },
  {
   "cell_type": "markdown",
   "id": "dc0b72f7",
   "metadata": {},
   "source": [
    "Update the Kalman filter state estimate previously with the Kalman gain K, and the difference between the actual state z and the predicted one x. In the mean time, we update the values of P.\n",
    "\n",
    "$$I = z-X$$\n",
    "and $$K = P*H^T*S$$  with $$S=R+H*P^T*H$$\n",
    "then $$X=X+K*I$$\n",
    "and $$P = P-K*H*P$$"
   ]
  },
  {
   "cell_type": "markdown",
   "id": "26779ae7",
   "metadata": {},
   "source": [
    "### Filter"
   ]
  },
  {
   "cell_type": "markdown",
   "id": "729027b0",
   "metadata": {},
   "source": [
    "We then implement the filter function by calling the prediction function and the update function in this order every dt"
   ]
  },
  {
   "cell_type": "code",
   "execution_count": null,
   "id": "f8e58a47",
   "metadata": {},
   "outputs": [],
   "source": []
  }
 ],
 "metadata": {
  "kernelspec": {
   "display_name": "Python 3",
   "language": "python",
   "name": "python3"
  },
  "language_info": {
   "codemirror_mode": {
    "name": "ipython",
    "version": 3
   },
   "file_extension": ".py",
   "mimetype": "text/x-python",
   "name": "python",
   "nbconvert_exporter": "python",
   "pygments_lexer": "ipython3",
   "version": "3.7.4"
  }
 },
 "nbformat": 4,
 "nbformat_minor": 5
}
