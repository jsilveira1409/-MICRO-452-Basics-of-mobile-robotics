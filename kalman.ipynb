{
 "cells": [
  {
   "cell_type": "code",
   "execution_count": null,
   "metadata": {},
   "outputs": [],
   "source": [
    "class\n",
    "\n",
    "def kalman_setup():\n",
    "    \n",
    "    # 6 state variables to track : x, y, theta, vx, vy, omega\n",
    "    # 3 measurements : x, y, theta\n",
    "    filter = KalmanFilter(dim_x=6, dim_z=3, dim_u=3)\n",
    "    # STEP 1\n",
    "    # state transition matrix\n",
    "    filter.F = np.array([[1, 0, 0,  dt, 0, 0],\n",
    "                            [0, 1, 0,  0, dt, 0],\n",
    "                            [0, 0, 1,  0, 0, dt],\n",
    "                            [0, 0, 0,  1, 0, 0],\n",
    "                            [0, 0, 0,  0, 1, 0],\n",
    "                            [0, 0, 0,  0, 0, 1]])\n",
    "    # STEP 2\n",
    "    # no initial control input\n",
    "\n",
    "    # control input function\n",
    "    filter.B = np.eye(6)\n",
    "\n",
    "    # STEP 3\n",
    "    # measurement function. z =(zx, zy, ztheta)\n",
    "    filter.H = np.array([[1, 0, 0, 0, 0, 0],\n",
    "                            [0, 1, 0, 0, 0, 0],\n",
    "                            [0, 0, 1, 0, 0, 0 ]])\n",
    "    # STEP 4\n",
    "    # we assume that the error is independant in x and y, therefore no correlation \n",
    "    # between the two. However, we assume that the error is correlated in theta as \n",
    "    # it depends on the x and y translation.\n",
    "    filter.R = np.array([[    R_std,         0,     R_theta_x],\n",
    "                            [        0,     R_std,     R_theta_y],\n",
    "                            [R_theta_x, R_theta_y, R_theta_theta]])\n",
    "\n",
    "    # STEP 5\n",
    "    # process noise covariance matrix\n",
    "\n",
    "    # values for the Q matrix\n",
    "    # q_xth, q_xvx, q_xvth, q_vxth, qvxvth\n",
    "    # q_yth, q_yvy, q_yvth, q_vyth, qvyvth\n",
    "    # q_thvth\n",
    "    q = [[0, 0, 0, 0, 0, 0],\n",
    "            [0, 0, 0, 0, 0, 0],\n",
    "            [0]]\n",
    "    filter.Q = np.array([[0,        0,       q[0][0], q[0][1],  0,       q[0][2]],\n",
    "                            [0,        0,       q[1][0], 0,        q[1][1], q[1][2]],\n",
    "                            [q[0][0],  q[1][0], 0,       q[0][3],  q[1][3], q[2][0]],\n",
    "                            [q[0][1],  0,       q[0][3], 0,        0,       q[0][4]],\n",
    "                            [0,        q[1][1], q[1][3], 0,        0,       q[1][4]],\n",
    "                            [q[0][2],  q[1][2], q[2][0], q[0][4],  q[1][4], 0]])\n",
    "    print(filter.B.shape)\n",
    "    # STEP 6\n",
    "    # initial state, the robot is not moving at the beginning.\n",
    "    # x, y, and theta is given by CV, vx, vy and vtheta are 0.\n",
    "    filter.x = np.array([[0, 0, 0, 0, 0, 0]]).T\n",
    "    # initial covariance matrix \n",
    "    # TODO: not sure how to set this up, as it is a random guess, i think\n",
    "    filter.P = [np.eye(6) * 100.]\n"
   ]
  }
 ],
 "metadata": {
  "kernelspec": {
   "display_name": "Python 3.10.8 64-bit (microsoft store)",
   "language": "python",
   "name": "python3"
  },
  "language_info": {
   "name": "python",
   "version": "3.10.8"
  },
  "orig_nbformat": 4,
  "vscode": {
   "interpreter": {
    "hash": "cb1983b9c47e14b20fd028192cae604aef8398bd0de4ca61322f85dff1485603"
   }
  }
 },
 "nbformat": 4,
 "nbformat_minor": 2
}
