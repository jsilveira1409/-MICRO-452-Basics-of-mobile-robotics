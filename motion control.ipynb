{
 "cells": [
  {
   "cell_type": "code",
   "execution_count": 213,
   "id": "9721eeca",
   "metadata": {},
   "outputs": [
    {
     "name": "stdout",
     "output_type": "stream",
     "text": [
      "id:       f3394cac-4181-424e-86bd-f1910fa2563b\n",
      "group id: 9ebd48b4-772b-47c1-92b0-a43394232bba\n",
      "name:     Thymio 210\n",
      "status:   2 (available)\n",
      "cap:      7\n",
      "firmware: 13\n",
      "\n",
      "Requirement already satisfied: tk-tools in c:\\users\\lggav\\anaconda3\\lib\\site-packages (0.16.0)\n",
      "Requirement already satisfied: engineering-notation>=0.5 in c:\\users\\lggav\\anaconda3\\lib\\site-packages (from tk-tools) (0.7.0)\n"
     ]
    }
   ],
   "source": [
    "!python -m tdmclient list\n",
    "!python -m pip install tk-tools\n",
    "!python -m tdmclient gui"
   ]
  },
  {
   "cell_type": "code",
   "execution_count": 214,
   "id": "8c6a052a",
   "metadata": {},
   "outputs": [],
   "source": [
    "# Import tdmclient Notebook environment:\n",
    "import tdmclient.notebook\n",
    "await tdmclient.notebook.start()\n",
    "\n",
    "import time\n",
    "import math"
   ]
  },
  {
   "cell_type": "code",
   "execution_count": 215,
   "id": "8aea1ba6",
   "metadata": {},
   "outputs": [],
   "source": [
    "import numpy as np\n",
    "from numpy import zeros"
   ]
  },
  {
   "cell_type": "code",
   "execution_count": 223,
   "id": "84af6945",
   "metadata": {},
   "outputs": [],
   "source": [
    "# parametres\n",
    "time_rotation = 7.4\n",
    "speed_r = 125\n",
    "speed_f = 125\n",
    "stop = 0\n",
    "\n",
    "periode = 4\n",
    "\n",
    "path = [[0, 150], [150, 150]]"
   ]
  },
  {
   "cell_type": "code",
   "execution_count": 217,
   "id": "eab9dfe6",
   "metadata": {},
   "outputs": [],
   "source": [
    "@tdmclient.notebook.sync_var\n",
    "def motors(l_speed=500, r_speed=500):\n",
    "    \"\"\"\n",
    "    Sets the motor speeds of the Thymio \n",
    "    param l_speed: left motor speed\n",
    "    param r_speed: right motor speed\n",
    "    \"\"\"\n",
    "    global motor_left_target, motor_right_target\n",
    "    \n",
    "    motor_left_target = l_speed\n",
    "    motor_right_target = r_speed"
   ]
  },
  {
   "cell_type": "code",
   "execution_count": 218,
   "id": "477d8401",
   "metadata": {},
   "outputs": [],
   "source": [
    "#input : angle to change the trajectory\n",
    "@tdmclient.notebook.sync_var\n",
    "def orientation (angle):\n",
    "    \n",
    "    global motor_left_target, motor_right_target\n",
    "    \n",
    "    if angle < 0:\n",
    "        motors(speed_r, stop)\n",
    "    else :\n",
    "        motors(stop, speed_r)\n",
    "        \n",
    "    time.sleep(time_rotation * abs(angle) / (math.pi))\n",
    "    motors(stop, stop)"
   ]
  },
  {
   "cell_type": "code",
   "execution_count": 219,
   "id": "d1837e48",
   "metadata": {},
   "outputs": [],
   "source": [
    "def get_angle_between(vec1, vec2):\n",
    "    vec1_unit = vec1 / np.linalg.norm(vec1)\n",
    "    vec2_unit = vec2 / np.linalg.norm(vec2)\n",
    "\n",
    "    return np.arccos(np.dot(vec1_unit, vec2_unit))"
   ]
  },
  {
   "cell_type": "raw",
   "id": "d3d73eb1",
   "metadata": {},
   "source": [
    "# input : path, table of the points to reach \n",
    "#return : teta, table of the angles taken by the robot to reach each point\n",
    "def diff_angle (path):\n",
    "    i = 1\n",
    "    teta = zeros(np.shape(path)[0])\n",
    "    \n",
    "    teta[0] = math.atan2(path[0][1], path[0][0])\n",
    "    \n",
    "    while i < (np.shape(path)[0]):\n",
    "        if path[i][1] != path[i-1][1] :\n",
    "            if path[i][1] < path[i-1][1]:\n",
    "                teta [i] = teta[i-1] + math.atan2((path[i][1] - path[i-1][1]), (path[i][0] - path[i-1][0]))\n",
    "            else :\n",
    "                teta [i] = math.atan2((path[i][1] - path[i-1][1]), (path[i][0] - path[i-1][0])) - teta[i-1]\n",
    "        else : \n",
    "            teta[i] = teta[i-1]\n",
    "        i = i + 1\n",
    "    return teta\n"
   ]
  },
  {
   "cell_type": "code",
   "execution_count": 220,
   "id": "224cc17a",
   "metadata": {},
   "outputs": [],
   "source": [
    "#input : coordinates of two different points \n",
    "#return the distance between two points \n",
    "def distance (x1, y1, x2, y2):\n",
    "    dist = np.sqrt((x1-x2)*(x1-x2) + (y1-y2)*(y1-y2))\n",
    "    return dist"
   ]
  },
  {
   "cell_type": "code",
   "execution_count": 221,
   "id": "eedeba47",
   "metadata": {},
   "outputs": [],
   "source": [
    "def mouving (path):\n",
    "    teta = zeros(np.shape(path)[0])\n",
    "    #teta = diff_angle(path)\n",
    "    #print (teta)\n",
    "\n",
    "    goalx = path[0][0]\n",
    "    goaly = path[0][1]\n",
    "    \n",
    "    i = 0\n",
    "    x_pense = 0\n",
    "    y_pense = 0\n",
    "    teta_pense = 0\n",
    "    \n",
    "    kx = 0\n",
    "    ky = 0\n",
    "    kteta = 0\n",
    "    #[kx, ky, kteta] = kalman()\n",
    "    \n",
    "    #vec1 = [0,0]\n",
    "    #vec2 = [goalx, goaly]\n",
    "    #angle = get_angle_between(vec2, vec1)\n",
    "    #orientation(angle)\n",
    "    #angle = math.atan2(goaly, goalx)\n",
    "    #print(angle)\n",
    "\n",
    "    while i < np.shape(path)[0]-1:\n",
    "        #[kx, ky, kteta] = kalman()\n",
    "        teta[i] = math.atan2((goaly - (y_pense + ky)), (goalx - (x_pense + kx))) #change angle according to kalman\n",
    "        orientation(teta[i] - kteta)\n",
    "        dist = distance (goalx, goaly, kx, ky)\n",
    "        if (dist < (speed_f * periode)):\n",
    "            i = i + 1\n",
    "            goalx = path[i][0]\n",
    "            goaly = path[i][1]\n",
    "            motors(speed_f, speed_f)\n",
    "            time.sleep(dist/(speed_f/3))\n",
    "            x_pense = kx + speed_f * periode * np.cos(teta[i-1])\n",
    "            y_pense = ky + speed_f * periode * np.sin(teta[i-1])\n",
    "            vec1 = [np.cos(teta[i-1]), np.sin(teta[i-1])]\n",
    "            vec2 = [goalx - x_pense, goaly - y_pense]\n",
    "            angle = get_angle_between(vec2, vec1)\n",
    "            teta_pense = angle + teta[i-1]\n",
    "            orientation(angle)\n",
    "        else :\n",
    "            motors(speed_f, speed_f)\n",
    "            x_pense = x_pense + kx + speed_f * periode * np.cos(teta[i])\n",
    "            y_pense = y_pense + ky + speed_f * periode * np.sin(teta[i])\n",
    "            teta_pense = teta[i]\n",
    "            time.sleep(periode)\n",
    "   \n",
    "    \n",
    "    # move the robot to the last point\n",
    "    while x_pense!=path[i][0] and y_pense!=path[i][1]:\n",
    "        #[kx, ky, kteta] = kalman()\n",
    "        dist = distance(path[i][0], path[i][1], x_pense + kx, y_pense + ky)\n",
    "        if (dist < speed_f * periode):\n",
    "            motors(speed_f, speed_f)\n",
    "            time.sleep(dist/(speed_f/3))\n",
    "            x_pense=path[i][0]\n",
    "            y_pense=path[i][1]\n",
    "        else :\n",
    "            motors(speed_f, speed_f)\n",
    "            x_pense = x_pense + kx + speed_f * periode * np.cos(teta[i])\n",
    "            y_pense = y_pense + ky + speed_f * periode * np.sin(teta[i])\n",
    "            time.sleep(periode)\n",
    "            \n",
    "    motors(stop, stop)"
   ]
  },
  {
   "cell_type": "code",
   "execution_count": 225,
   "id": "8ca9bc8d",
   "metadata": {},
   "outputs": [
    {
     "name": "stdout",
     "output_type": "stream",
     "text": [
      "1.5707963267948966\n",
      "1.5707963267948966\n",
      "x 3.061616997868383e-14\n",
      "y 500.0\n",
      "[6.123234e-17 1.000000e+00]\n",
      "-0.9191450300180579\n",
      "2.7367008673047097\n"
     ]
    }
   ],
   "source": [
    "mouving(path)"
   ]
  },
  {
   "cell_type": "code",
   "execution_count": 194,
   "id": "002a165c",
   "metadata": {},
   "outputs": [],
   "source": [
    "motors(stop, stop)"
   ]
  },
  {
   "cell_type": "code",
   "execution_count": null,
   "id": "1b7b29e3",
   "metadata": {},
   "outputs": [],
   "source": []
  }
 ],
 "metadata": {
  "kernelspec": {
   "display_name": "Python 3",
   "language": "python",
   "name": "python3"
  },
  "language_info": {
   "codemirror_mode": {
    "name": "ipython",
    "version": 3
   },
   "file_extension": ".py",
   "mimetype": "text/x-python",
   "name": "python",
   "nbconvert_exporter": "python",
   "pygments_lexer": "ipython3",
   "version": "3.7.4"
  }
 },
 "nbformat": 4,
 "nbformat_minor": 5
}
