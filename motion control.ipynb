{
 "cells": [
  {
   "cell_type": "code",
   "execution_count": null,
   "id": "30d99d44",
   "metadata": {},
   "outputs": [],
   "source": [
    "# paramètres\n",
    "time_rotation = 2.5\n",
    "speed_r = 125\n",
    "speed_f = 100\n",
    "\n",
    "periode = "
   ]
  },
  {
   "cell_type": "code",
   "execution_count": null,
   "id": "64638d91",
   "metadata": {},
   "outputs": [],
   "source": [
    "# calcul différence d'angle\n",
    "# entrée : tableau avec coordonnées de tous les points à atteindre dans l'odre de passage\n",
    "# retrourne un tableau avec l'angle du robot entre chaque point de passage\n",
    "def diff_angle (path):\n",
    "    i = 1\n",
    "    while i < (np.shape(path)[0]):\n",
    "        teta [i] = math.atan((path[i,0] - path[i-1,0])/(path[i,1] - path[i-1,1]))\n",
    "        i = i + 1"
   ]
  },
  {
   "cell_type": "code",
   "execution_count": null,
   "id": "0ff1261c",
   "metadata": {},
   "outputs": [],
   "source": [
    "# orientation du robot avec en entrée un angle du tableau teta\n",
    "def orientation (angle):\n",
    "    if angle < 0:\n",
    "        motor_left_target = speed_r\n",
    "        motor_right_target = -speed_r\n",
    "    else :\n",
    "        motor_left_target = -speed_r\n",
    "        motor_right_target = speed_r\n",
    "        \n",
    "    time.sleep(time_rotation * angle / math.pi)\n",
    "    stopmotors()"
   ]
  },
  {
   "cell_type": "code",
   "execution_count": null,
   "id": "dd658e54",
   "metadata": {},
   "outputs": [],
   "source": [
    "#calcul la distance à parcourir entre chaque points de passage\n",
    "# retourne un tableau avec chaque distance\n",
    "def distance (x1, y1, x2, y2):\n",
    "    dist = sqrt((x1-x2)*(x1-x2) + (y1-y2)*(y1-y2))"
   ]
  },
  {
   "cell_type": "code",
   "execution_count": null,
   "id": "1cd8bcc8",
   "metadata": {},
   "outputs": [],
   "source": [
    "def mouving (path):\n",
    "    teta = diff_angle(path)\n",
    "    \n",
    "    goal = path[0]\n",
    "    i = 0\n",
    "    x_pense = 0\n",
    "    y_pense = 0\n",
    "    teta_pense = 0\n",
    "\n",
    "    while i < np.shape(path)[0]:\n",
    "        [deltax, delaty, deltateta] = kalman()\n",
    "        teta[i] = math.atan((goal[i,0] - (x_pense + deltax))/(goal[i,1] - (y_pense + deltay)))\n",
    "        orientation(teta[i] - (teta_pense + deltateta)\n",
    "        dist = distance (goal[i,0], goal[i,1], x_pense + deltax, y_pense + deltay)\n",
    "        if dist < (speed_f * periode) :\n",
    "            i = i + 1\n",
    "            goal = path[i]\n",
    "            motor_left_target = speed_f\n",
    "            motor_right_target = speed_f\n",
    "            time.sleep(distance/(speed_f/25))\n",
    "            orientation(teta[i] - teta[i-1])\n",
    "        else :\n",
    "            motor_left_target = speed_f\n",
    "            motor_right_target = speed_f\n",
    "            x_pense = x_pense + deltax + speed_f * periode * math.cos(teta[i])\n",
    "            y_pense = y_pense + deltay + speed_f * periode * math.sin(teta[i])\n",
    "            teta_pense = teta[i]\n",
    "            time.sleep(periode)\n"
   ]
  }
 ],
 "metadata": {
  "kernelspec": {
   "display_name": "Python 3",
   "language": "python",
   "name": "python3"
  },
  "language_info": {
   "codemirror_mode": {
    "name": "ipython",
    "version": 3
   },
   "file_extension": ".py",
   "mimetype": "text/x-python",
   "name": "python",
   "nbconvert_exporter": "python",
   "pygments_lexer": "ipython3",
   "version": "3.7.4"
  }
 },
 "nbformat": 4,
 "nbformat_minor": 5
}
