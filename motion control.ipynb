{
 "cells": [
  {
   "cell_type": "code",
   "execution_count": 314,
   "id": "674e8305",
   "metadata": {},
   "outputs": [
    {
     "name": "stdout",
     "output_type": "stream",
     "text": [
      "id:       f3394cac-4181-424e-86bd-f1910fa2563b\n",
      "group id: 9ebd48b4-772b-47c1-92b0-a43394232bba\n",
      "name:     Thymio 210\n",
      "status:   2 (available)\n",
      "cap:      7\n",
      "firmware: 13\n",
      "\n",
      "Requirement already satisfied: tk-tools in c:\\users\\lggav\\anaconda3\\lib\\site-packages (0.16.0)\n",
      "Requirement already satisfied: engineering-notation>=0.5 in c:\\users\\lggav\\anaconda3\\lib\\site-packages (from tk-tools) (0.7.0)\n"
     ]
    }
   ],
   "source": [
    "!python -m tdmclient list\n",
    "!python -m pip install tk-tools\n",
    "!python -m tdmclient gui"
   ]
  },
  {
   "cell_type": "code",
   "execution_count": 315,
   "id": "d5913a1a",
   "metadata": {},
   "outputs": [],
   "source": [
    "# Import tdmclient Notebook environment:\n",
    "import tdmclient.notebook\n",
    "await tdmclient.notebook.start()\n",
    "\n",
    "import time\n",
    "import math"
   ]
  },
  {
   "cell_type": "code",
   "execution_count": 316,
   "id": "7c75421d",
   "metadata": {},
   "outputs": [],
   "source": [
    "import numpy as np\n",
    "from numpy import zeros"
   ]
  },
  {
   "cell_type": "code",
   "execution_count": 321,
   "id": "8f6f0a96",
   "metadata": {},
   "outputs": [],
   "source": [
    "# parametres\n",
    "time_rotation = 7\n",
    "speed_r = 125\n",
    "speed_f = 125\n",
    "stop = 0\n",
    "\n",
    "periode = 0.5\n",
    "\n",
    "path = [[0, 300], [300, 300], [300,0]]\n"
   ]
  },
  {
   "cell_type": "code",
   "execution_count": 322,
   "id": "7f5f0469",
   "metadata": {},
   "outputs": [],
   "source": [
    "@tdmclient.notebook.sync_var\n",
    "def motors(l_speed=500, r_speed=500):\n",
    "    \"\"\"\n",
    "    Sets the motor speeds of the Thymio \n",
    "    param l_speed: left motor speed\n",
    "    param r_speed: right motor speed\n",
    "    \"\"\"\n",
    "    global motor_left_target, motor_right_target\n",
    "    \n",
    "    motor_left_target = l_speed\n",
    "    motor_right_target = r_speed"
   ]
  },
  {
   "cell_type": "code",
   "execution_count": 270,
   "id": "2709174f",
   "metadata": {},
   "outputs": [],
   "source": [
    "#input : angle to change the trajectory\n",
    "@tdmclient.notebook.sync_var\n",
    "def orientation (angle):\n",
    "    \n",
    "    global motor_left_target, motor_right_target\n",
    "    \n",
    "    if angle < 0:\n",
    "        motors(speed_r, stop)\n",
    "    else :\n",
    "        motors(stop, speed_r)\n",
    "        \n",
    "    time.sleep(time_rotation * abs(angle) / (math.pi))\n",
    "    motors(stop, stop)\n",
    "    \n",
    "orientation(np.pi)"
   ]
  },
  {
   "cell_type": "code",
   "execution_count": 230,
   "id": "7be90cfd",
   "metadata": {},
   "outputs": [],
   "source": [
    "def get_angle_between(vec1, vec2):\n",
    "    vec1_unit = vec1 / np.linalg.norm(vec1)\n",
    "    vec2_unit = vec2 / np.linalg.norm(vec2)\n",
    "\n",
    "    return np.arccos(np.dot(vec1_unit, vec2_unit))"
   ]
  },
  {
   "cell_type": "raw",
   "id": "b725cf1e",
   "metadata": {},
   "source": [
    "# input : path, table of the points to reach \n",
    "#return : teta, table of the angles taken by the robot to reach each point\n",
    "def diff_angle (path):\n",
    "    i = 1\n",
    "    teta = zeros(np.shape(path)[0])\n",
    "    \n",
    "    teta[0] = math.atan2(path[0][1], path[0][0])\n",
    "    \n",
    "    while i < (np.shape(path)[0]):\n",
    "        if path[i][1] != path[i-1][1] :\n",
    "            if path[i][1] < path[i-1][1]:\n",
    "                teta [i] = teta[i-1] + math.atan2((path[i][1] - path[i-1][1]), (path[i][0] - path[i-1][0]))\n",
    "            else :\n",
    "                teta [i] = math.atan2((path[i][1] - path[i-1][1]), (path[i][0] - path[i-1][0])) - teta[i-1]\n",
    "        else : \n",
    "            teta[i] = teta[i-1]\n",
    "        i = i + 1\n",
    "    return teta\n"
   ]
  },
  {
   "cell_type": "code",
   "execution_count": 220,
   "id": "cd967454",
   "metadata": {},
   "outputs": [],
   "source": [
    "#input : coordinates of two different points \n",
    "#return the distance between two points \n",
    "def distance (x1, y1, x2, y2):\n",
    "    dist = np.sqrt((x1-x2)*(x1-x2) + (y1-y2)*(y1-y2))\n",
    "    return dist"
   ]
  },
  {
   "cell_type": "code",
   "execution_count": 293,
   "id": "ca739fe9",
   "metadata": {},
   "outputs": [],
   "source": [
    "def mouving (path):\n",
    "    teta = zeros(np.shape(path)[0])\n",
    "    #teta = diff_angle(path)\n",
    "    #print (teta)\n",
    "\n",
    "    goalx = path[0][0]\n",
    "    goaly = path[0][1]\n",
    "    \n",
    "    i = 0\n",
    "    x_pense = 0\n",
    "    y_pense = 0\n",
    "    teta_pense = 0\n",
    "    \n",
    "    kx = 0\n",
    "    ky = 0\n",
    "    kteta = 0\n",
    "    #[kx, ky, kteta] = kalman()\n",
    "    \n",
    "    #vec1 = [0,0]\n",
    "    #vec2 = [goalx, goaly]\n",
    "    #angle = get_angle_between(vec2, vec1)\n",
    "    #orientation(angle)\n",
    "    #angle = math.atan2(goaly, goalx)\n",
    "    #print(angle)\n",
    "    print('x =', x_pense, 'y =', y_pense, 'teta =', teta_pense)\n",
    "\n",
    "    while i < np.shape(path)[0]-1:\n",
    "        #[kx, ky, kteta] = kalman()\n",
    "        [kx, ky, kteta] = [x_pense, y_pense, teta_pense]\n",
    "        teta[i] = math.atan2((goaly - ky), (goalx - kx)) #change angle according to kalman\n",
    "        orientation(teta[i] - kteta)\n",
    "        dist = distance (goalx, goaly, kx, ky)\n",
    "        if (dist < (speed_f * periode)):\n",
    "            print('i = ',i)\n",
    "            i = i + 1\n",
    "            goalx = path[i][0]\n",
    "            goaly = path[i][1]\n",
    "            motors(speed_f, speed_f)\n",
    "            time.sleep(dist/(speed_f/3))\n",
    "            motors(stop, stop)\n",
    "            time.sleep(1)\n",
    "            \n",
    "            x_pense = path[i-1][0]\n",
    "            y_pense = path[i-1][1]\n",
    "            vec1 = [np.cos(teta[i-1]), np.sin(teta[i-1])]\n",
    "            vec2 = [goalx - x_pense, goaly - y_pense]\n",
    "            angle = -get_angle_between(vec1, vec2)\n",
    "            print('angle', angle)\n",
    "            teta_pense = angle + teta[i-1]\n",
    "            orientation(angle)\n",
    "        else :\n",
    "            motors(speed_f, speed_f)\n",
    "            x_pense = kx + speed_f * periode * np.cos(teta[i])\n",
    "            y_pense = ky + speed_f * periode * np.sin(teta[i])\n",
    "            teta_pense = teta[i]\n",
    "            kteta = teta[i]\n",
    "            print('y =', y_pense)\n",
    "            print('x=', x_pense)\n",
    "            print('teta', teta_pense)\n",
    "            time.sleep(periode)\n",
    "   \n",
    "    \n",
    "    # move the robot to the last point\n",
    "    while x_pense!=path[i][0] or y_pense!=path[i][1]:\n",
    "        #[kx, ky, kteta] = kalman()\n",
    "        [kx, ky, kteta] = [x_pense, y_pense, teta_pense]\n",
    "        teta[i] = math.atan2((goaly - ky), (goalx - kx))\n",
    "        print('kx= ',kx,'ky = ', ky,'goalx = ', goalx,'goaly = ',goaly)\n",
    "        dist = distance(goalx, goaly, kx, ky)\n",
    "        print('dist = ', dist)\n",
    "        if (dist < (speed_f * periode)):\n",
    "            motors(speed_f, speed_f)\n",
    "            time.sleep(dist/(speed_f/3))\n",
    "            x_pense=path[i][0]\n",
    "            y_pense=path[i][1]\n",
    "        else :\n",
    "            motors(speed_f, speed_f)\n",
    "            x_pense = kx + speed_f * periode * np.cos(teta[i])\n",
    "            y_pense = ky + speed_f * periode * np.sin(teta[i])\n",
    "            time.sleep(periode)\n",
    "            \n",
    "    motors(stop, stop)"
   ]
  },
  {
   "cell_type": "code",
   "execution_count": 294,
   "id": "c09a298d",
   "metadata": {},
   "outputs": [
    {
     "name": "stdout",
     "output_type": "stream",
     "text": [
      "x = 0 y = 0 teta = 0\n",
      "y = 62.5\n",
      "x= 3.827021247335479e-15\n",
      "teta 1.5707963267948966\n",
      "y = 125.0\n",
      "x= 7.654042494670958e-15\n",
      "teta 1.5707963267948966\n",
      "y = 187.5\n",
      "x= 1.1481063742006436e-14\n",
      "teta 1.5707963267948966\n",
      "y = 250.0\n",
      "x= 1.4302971815274573e-15\n",
      "teta 1.5707963267948968\n",
      "i =  0\n",
      "angle -1.5707963267948966\n",
      "y = 300.0\n",
      "x= 62.5\n",
      "teta 0.0\n",
      "y = 300.0\n",
      "x= 125.0\n",
      "teta 0.0\n",
      "y = 300.0\n",
      "x= 187.5\n",
      "teta 0.0\n",
      "y = 300.0\n",
      "x= 250.0\n",
      "teta 0.0\n",
      "i =  1\n",
      "angle -1.5707963267948966\n",
      "kx=  300 ky =  300 goalx =  300 goaly =  0\n",
      "dist =  300.0\n",
      "kx=  300.0 ky =  237.5 goalx =  300 goaly =  0\n",
      "dist =  237.5\n",
      "kx=  300.0 ky =  175.0 goalx =  300 goaly =  0\n",
      "dist =  175.0\n",
      "kx=  300.0 ky =  112.5 goalx =  300 goaly =  0\n",
      "dist =  112.5\n",
      "kx=  300.0 ky =  50.0 goalx =  300 goaly =  0\n",
      "dist =  50.0\n"
     ]
    }
   ],
   "source": [
    "mouving(path)"
   ]
  },
  {
   "cell_type": "code",
   "execution_count": 298,
   "id": "96106bef",
   "metadata": {},
   "outputs": [],
   "source": [
    "motors(stop, stop)"
   ]
  },
  {
   "cell_type": "code",
   "execution_count": null,
   "id": "04840af5",
   "metadata": {},
   "outputs": [],
   "source": []
  }
 ],
 "metadata": {
  "kernelspec": {
   "display_name": "Python 3",
   "language": "python",
   "name": "python3"
  },
  "language_info": {
   "codemirror_mode": {
    "name": "ipython",
    "version": 3
   },
   "file_extension": ".py",
   "mimetype": "text/x-python",
   "name": "python",
   "nbconvert_exporter": "python",
   "pygments_lexer": "ipython3",
   "version": "3.7.4"
  }
 },
 "nbformat": 4,
 "nbformat_minor": 5
}
