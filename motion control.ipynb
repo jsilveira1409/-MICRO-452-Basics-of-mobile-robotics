{
 "cells": [
  {
   "cell_type": "code",
   "execution_count": null,
   "id": "807e885b",
   "metadata": {},
   "outputs": [],
   "source": [
    "# parametres\n",
    "time_rotation = 2.5\n",
    "speed_r = 125\n",
    "speed_f = 100\n",
    "\n",
    "periode = 1"
   ]
  },
  {
   "cell_type": "code",
   "execution_count": null,
   "id": "b3ffe1ad",
   "metadata": {},
   "outputs": [],
   "source": [
    "#input : path, table of the points to reach \n",
    "#return : teta, table of the angles taken by the robot to reach each point\n",
    "def diff_angle (path):\n",
    "    i = 1\n",
    "    while i < (np.shape(path)[0]):\n",
    "        teta [i] = math.atan((path[i,0] - path[i-1,0])/(path[i,1] - path[i-1,1]))\n",
    "        i = i + 1"
   ]
  },
  {
   "cell_type": "code",
   "execution_count": null,
   "id": "d0c82494",
   "metadata": {},
   "outputs": [],
   "source": [
    "#input : angle to change the trajectory\n",
    "def orientation (angle):\n",
    "    if angle < 0:\n",
    "        motor_left_target = speed_r\n",
    "        motor_right_target = -speed_r\n",
    "    else :\n",
    "        motor_left_target = -speed_r\n",
    "        motor_right_target = speed_r\n",
    "        \n",
    "    time.sleep(time_rotation * angle / math.pi)\n",
    "    stopmotors()"
   ]
  },
  {
   "cell_type": "code",
   "execution_count": null,
   "id": "0e41e93e",
   "metadata": {},
   "outputs": [],
   "source": [
    "#input : coordinates of two different points \n",
    "#return the distance between two points \n",
    "def distance (x1, y1, x2, y2):\n",
    "    dist = sqrt((x1-x2)*(x1-x2) + (y1-y2)*(y1-y2))"
   ]
  },
  {
   "cell_type": "code",
   "execution_count": null,
   "id": "79177c7f",
   "metadata": {},
   "outputs": [],
   "source": [
    "def mouving (path):\n",
    "    teta = diff_angle(path)\n",
    "    \n",
    "    goal = path[0]\n",
    "    i = 0\n",
    "    x_pense = 0\n",
    "    y_pense = 0\n",
    "    teta_pense = 0\n",
    "\n",
    "    while i < np.shape(path)[0]:\n",
    "        [deltax, delaty, deltateta] = kalman()\n",
    "        teta[i] = math.atan((goal[i,0] - (x_pense + deltax))/(goal[i,1] - (y_pense + deltay)))\n",
    "        orientation(teta[i] - (teta_pense + deltateta)\n",
    "        dist = distance (goal[i,0], goal[i,1], x_pense + deltax, y_pense + deltay)\n",
    "        if dist < (speed_f * periode) :\n",
    "            i = i + 1\n",
    "            goal = path[i]\n",
    "            motor_left_target = speed_f\n",
    "            motor_right_target = speed_f\n",
    "            time.sleep(distance/(speed_f/25))\n",
    "            orientation(teta[i] - teta[i-1])\n",
    "        else :\n",
    "            motor_left_target = speed_f\n",
    "            motor_right_target = speed_f\n",
    "            x_pense = x_pense + deltax + speed_f * periode * math.cos(teta[i])\n",
    "            y_pense = y_pense + deltay + speed_f * periode * math.sin(teta[i])\n",
    "            teta_pense = teta[i]\n",
    "            time.sleep(periode)\n"
   ]
  }
 ],
 "metadata": {
  "kernelspec": {
   "display_name": "Python 3",
   "language": "python",
   "name": "python3"
  },
  "language_info": {
   "codemirror_mode": {
    "name": "ipython",
    "version": 3
   },
   "file_extension": ".py",
   "mimetype": "text/x-python",
   "name": "python",
   "nbconvert_exporter": "python",
   "pygments_lexer": "ipython3",
   "version": "3.7.4"
  }
 },
 "nbformat": 4,
 "nbformat_minor": 5
}
