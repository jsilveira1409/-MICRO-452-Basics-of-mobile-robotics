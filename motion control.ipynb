{
 "cells": [
  {
   "cell_type": "code",
   "execution_count": 23,
   "id": "e7971c2d",
   "metadata": {},
   "outputs": [
    {
     "name": "stdout",
     "output_type": "stream",
     "text": [
      "id:       f3394cac-4181-424e-86bd-f1910fa2563b\n",
      "group id: 44d28aad-03e2-499b-9d65-dd1e35adcaaf\n",
      "name:     Thymio 210\n",
      "status:   2 (available)\n",
      "cap:      7\n",
      "firmware: 13\n",
      "\n",
      "Requirement already satisfied: tk-tools in c:\\users\\lggav\\anaconda3\\lib\\site-packages (0.16.0)\n",
      "Requirement already satisfied: engineering-notation>=0.5 in c:\\users\\lggav\\anaconda3\\lib\\site-packages (from tk-tools) (0.7.0)\n"
     ]
    }
   ],
   "source": [
    "!python -m tdmclient list\n",
    "!python -m pip install tk-tools\n",
    "!python -m tdmclient gui"
   ]
  },
  {
   "cell_type": "code",
   "execution_count": 24,
   "id": "b0dc640e",
   "metadata": {},
   "outputs": [],
   "source": [
    "# Import tdmclient Notebook environment:\n",
    "import tdmclient.notebook\n",
    "await tdmclient.notebook.start()\n",
    "\n",
    "import time\n",
    "import math"
   ]
  },
  {
   "cell_type": "code",
   "execution_count": 25,
   "id": "8b2c63e7",
   "metadata": {},
   "outputs": [],
   "source": [
    "import numpy as np\n",
    "from numpy import zeros"
   ]
  },
  {
   "cell_type": "code",
   "execution_count": 110,
   "id": "5ec6a32e",
   "metadata": {},
   "outputs": [],
   "source": [
    "# parametres\n",
    "time_rotation = 7.4\n",
    "speed_r = 125\n",
    "speed_f = 125\n",
    "stop = 0\n",
    "\n",
    "periode = 4\n",
    "\n",
    "path = [[150, 50], [150, 100], [100,150]]"
   ]
  },
  {
   "cell_type": "code",
   "execution_count": 90,
   "id": "70e32cb9",
   "metadata": {},
   "outputs": [],
   "source": [
    "@tdmclient.notebook.sync_var\n",
    "def motors(l_speed=500, r_speed=500):\n",
    "    \"\"\"\n",
    "    Sets the motor speeds of the Thymio \n",
    "    param l_speed: left motor speed\n",
    "    param r_speed: right motor speed\n",
    "    \"\"\"\n",
    "    global motor_left_target, motor_right_target\n",
    "    \n",
    "    motor_left_target = l_speed\n",
    "    motor_right_target = r_speed"
   ]
  },
  {
   "cell_type": "code",
   "execution_count": 91,
   "id": "511ee5c7",
   "metadata": {},
   "outputs": [],
   "source": [
    "#input : angle to change the trajectory\n",
    "@tdmclient.notebook.sync_var\n",
    "def orientation (angle):\n",
    "    \n",
    "    global motor_left_target, motor_right_target\n",
    "    \n",
    "    if angle < 0:\n",
    "        motors(speed_r, stop)\n",
    "    else :\n",
    "        motors(stop, speed_r)\n",
    "        \n",
    "    time.sleep(time_rotation * abs(angle) / (math.pi))\n",
    "    motors(stop, stop)"
   ]
  },
  {
   "cell_type": "code",
   "execution_count": 122,
   "id": "75e78e3b",
   "metadata": {},
   "outputs": [],
   "source": [
    "#input : path, table of the points to reach \n",
    "#return : teta, table of the angles taken by the robot to reach each point\n",
    "def diff_angle (path):\n",
    "    i = 1\n",
    "    teta = zeros(np.shape(path)[0])\n",
    "    \n",
    "    teta[0] = math.atan2(path[0][0], path[0][1])\n",
    "    \n",
    "    while i < (np.shape(path)[0]):\n",
    "        if path[i][1] != path[i-1][1] :\n",
    "            teta [i] = math.atan2((path[i][0] - path[i-1][0]), (path[i][1] - path[i-1][1]))\n",
    "        else : \n",
    "            teta[i] = teta[i-1]\n",
    "        i = i + 1\n",
    "    return teta"
   ]
  },
  {
   "cell_type": "code",
   "execution_count": 93,
   "id": "e85e639e",
   "metadata": {},
   "outputs": [],
   "source": [
    "#input : coordinates of two different points \n",
    "#return the distance between two points \n",
    "def distance (x1, y1, x2, y2):\n",
    "    dist = math.sqrt((x1-x2)*(x1-x2) + (y1-y2)*(y1-y2))\n",
    "    return dist"
   ]
  },
  {
   "cell_type": "code",
   "execution_count": 123,
   "id": "4ce15a18",
   "metadata": {},
   "outputs": [],
   "source": [
    "def mouving (path):\n",
    "    teta = zeros(np.shape(path)[0])\n",
    "    teta = diff_angle(path)\n",
    "    goalx = path[0][0]\n",
    "    goaly = path[0][1]\n",
    "    \n",
    "    i = 0\n",
    "    x_pense = 0\n",
    "    y_pense = 0\n",
    "    teta_pense = 0\n",
    "    \n",
    "    deltax = 0\n",
    "    deltay = 0\n",
    "    deltateta = 0\n",
    "    \n",
    "    orientation(teta[0]-teta_pense) #teta at t=0 given by kalman\n",
    "\n",
    "    while i < np.shape(path)[0]-1:\n",
    "        #[deltax, delaty, deltateta] = kalman()\n",
    "        teta[i] = math.atan2((goalx - (x_pense + deltax)), (goaly - (y_pense + deltay)))\n",
    "        dist = distance (goalx, goaly, x_pense + deltax, y_pense + deltay)\n",
    "        if (dist < (speed_f * periode)):\n",
    "            i = i + 1\n",
    "            goalx = path[i][0]\n",
    "            goaly = path[i][1]\n",
    "            motors(speed_f, speed_f)\n",
    "            time.sleep(dist/(speed_f/3))\n",
    "            orientation(teta[i] - teta[i-1])\n",
    "        else :\n",
    "            orientation(teta[i] - (teta_pense + deltateta))\n",
    "            motors(speed_f, speed_f)\n",
    "            x_pense = x_pense + deltax + speed_f * periode * math.cos(teta[i])\n",
    "            y_pense = y_pense + deltay + speed_f * periode * math.sin(teta[i])\n",
    "            teta_pense = teta[i]\n",
    "            time.sleep(periode)\n",
    "   \n",
    "    \n",
    "    # move the robot to the last point\n",
    "    while x_pense!=path[i][0] and y_pense!=path[i][1]:\n",
    "        dist = distance(path[i][0], path[i][1], x_pense + deltax, y_pense + deltay)\n",
    "        if (dist < speed_f * periode):\n",
    "            motors(speed_f, speed_f)\n",
    "            time.sleep(dist/(speed_f/3))\n",
    "            x_pense=path[i][0]\n",
    "            y_pense=path[i][1]\n",
    "        else :\n",
    "            motors(speed_f, speed_f)\n",
    "            x_pense = x_pense + deltax + speed_f * periode * math.cos(teta[i])\n",
    "            y_pense = y_pense + deltay + speed_f * periode * math.sin(teta[i])\n",
    "            time.sleep(periode)\n",
    "            \n",
    "    motors(stop, stop)"
   ]
  },
  {
   "cell_type": "code",
   "execution_count": 124,
   "id": "56520818",
   "metadata": {},
   "outputs": [
    {
     "name": "stdout",
     "output_type": "stream",
     "text": [
      "[[150, 50], [150, 100], [100, 150]]\n",
      "[ 1.24904577  0.         -0.78539816]\n"
     ]
    }
   ],
   "source": [
    "mouving(path)"
   ]
  },
  {
   "cell_type": "code",
   "execution_count": 121,
   "id": "3b8a11e2",
   "metadata": {},
   "outputs": [],
   "source": [
    "motors(stop, stop)"
   ]
  },
  {
   "cell_type": "code",
   "execution_count": null,
   "id": "90bdd1d6",
   "metadata": {},
   "outputs": [],
   "source": []
  },
  {
   "cell_type": "code",
   "execution_count": null,
   "id": "7de6f14a",
   "metadata": {},
   "outputs": [],
   "source": []
  }
 ],
 "metadata": {
  "kernelspec": {
   "display_name": "Python 3",
   "language": "python",
   "name": "python3"
  },
  "language_info": {
   "codemirror_mode": {
    "name": "ipython",
    "version": 3
   },
   "file_extension": ".py",
   "mimetype": "text/x-python",
   "name": "python",
   "nbconvert_exporter": "python",
   "pygments_lexer": "ipython3",
   "version": "3.7.4"
  }
 },
 "nbformat": 4,
 "nbformat_minor": 5
}
