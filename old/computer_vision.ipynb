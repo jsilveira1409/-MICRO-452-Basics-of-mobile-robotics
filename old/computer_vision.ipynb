{
 "cells": [
  {
   "cell_type": "code",
   "execution_count": 8,
   "metadata": {},
   "outputs": [],
   "source": [
    "\n"
   ]
  },
  {
   "cell_type": "code",
   "execution_count": 12,
   "metadata": {},
   "outputs": [
    {
     "name": "stdout",
     "output_type": "stream",
     "text": [
      "[100 100   0]\n"
     ]
    }
   ],
   "source": [
    "from computer_vision  import *\n",
    "\n",
    "#read image as rgb\n",
    "cap = cv2.imread('test.jpg')\n",
    "\n",
    "fig, ax = plt.subplots(3, 3, figsize=(20, 10))\n",
    "im = cv2.cvtColor(cap, cv2.COLOR_RGB2BGR)\n",
    "im_processed = im.copy()\n",
    "\n",
    "#follows sames steps as in computer_vision function\n",
    "\n",
    "# 1. convert to hsv color space\n",
    "# it is easier to filter colors in the HSV color-space.\n",
    "im_hsv = cv2.cvtColor(im, cv2.COLOR_BGR2HSV)\n",
    "\n",
    "# 2. smooth the image\n",
    "# this will remove any small white noises\n",
    "im_smooth = smooth_world = cv2.medianBlur(world, 5)\n",
    "\n",
    "# 3. create mask and mask the image\n",
    "# create a mask of the color we are looking for\n",
    "mask = object_mask('obstacle', im_smooth)\n",
    "im_masked = cv2.bitwise_and(im_smooth, im_smooth, mask=mask)\n",
    "im_masked_gray = cv2.cvtColor(im_masked, cv2.COLOR_BGR2GRAY)\n",
    "\n",
    "# 4. segment the image\n",
    "# \n",
    "im_segmented = image_segmentation(im_masked_gray)\n",
    "\n",
    "# 5. detect objects\n",
    "#\n",
    "centers, contours, areas = object_detection(im_processed, im_segmented, 'obstacle')\n",
    "unique_centers, unique_contours = contour_treatment(im_processed, 'obstacle', centers, areas, contours)\n",
    "\n",
    "\n",
    "#plot images\n",
    "ax[0,0].imshow(im)\n",
    "ax[0,0].set_title('Original Image')\n",
    "ax[0,1].imshow(im_hsv)\n",
    "ax[0,1].set_title('HSV Image')\n",
    "ax[0,2].imshow(im_smooth)\n",
    "ax[0,2].set_title('Smoothed Image')\n",
    "ax[1,0].imshow(mask)\n",
    "ax[1,0].set_title('Mask')\n",
    "ax[1,1].imshow(im_masked)\n",
    "ax[1,1].set_title('Masked Image')\n",
    "ax[1,2].imshow(im_masked_gray)\n",
    "ax[1,2].set_title('Masked Gray Image')\n",
    "ax[2,0].imshow(im_segmented)\n",
    "ax[2,0].set_title('Segmented Image')\n",
    "ax[2,1].imshow(im_processed)\n",
    "ax[2,1].set_title('Detected Image')\n",
    "ax[2,2].imshow(im_processed)\n",
    "ax[2,2].set_title('Detected Image')\n",
    "fig.tight_layout()\n",
    "fig.show()"
   ]
  },
  {
   "cell_type": "code",
   "execution_count": null,
   "metadata": {},
   "outputs": [],
   "source": [
    "\n",
    "#read image as rgb\n",
    "cap = cv2.imread('test.jpg')\n",
    "\n",
    "fig, ax = plt.subplots(3, 3, figsize=(20, 10))\n",
    "im = cv2.cvtColor(cap, cv2.COLOR_RGB2BGR)\n",
    "im_processed = im.copy()\n",
    "\n",
    "#follows sames steps as in computer_vision function\n",
    "\n",
    "# 1. convert to hsv color space\n",
    "# it is easier to filter colors in the HSV color-space.\n",
    "im_hsv = cv2.cvtColor(im, cv2.COLOR_BGR2HSV)\n",
    "\n",
    "# 2. smooth the image\n",
    "# this will remove any small white noises\n",
    "im_smooth = smooth_world = cv2.medianBlur(world, 5)\n",
    "\n",
    "# 3. create mask and mask the image\n",
    "# create a mask of the color we are looking for\n",
    "mask = object_mask('obstacle', im_smooth)\n",
    "im_masked = cv2.bitwise_and(im_smooth, im_smooth, mask=mask)\n",
    "im_masked_gray = cv2.cvtColor(im_masked, cv2.COLOR_BGR2GRAY)\n",
    "\n",
    "# 4. segment the image\n",
    "# \n",
    "im_segmented = image_segmentation(im_masked_gray)\n",
    "\n",
    "# 5. detect objects\n",
    "#\n",
    "centers, contours, areas = object_detection(im_processed, im_segmented, 'obstacle')\n",
    "unique_centers, unique_contours = contour_treatment(im_processed, 'obstacle', centers, areas, contours)\n",
    "\n",
    "\n",
    "#plot images\n",
    "ax[0,0].imshow(im)\n",
    "ax[0,0].set_title('Original Image')\n",
    "ax[0,1].imshow(im_hsv)\n",
    "ax[0,1].set_title('HSV Image')\n",
    "ax[0,2].imshow(im_smooth)\n",
    "ax[0,2].set_title('Smoothed Image')\n",
    "ax[1,0].imshow(mask)\n",
    "ax[1,0].set_title('Mask')\n",
    "ax[1,1].imshow(im_masked)\n",
    "ax[1,1].set_title('Masked Image')\n",
    "ax[1,2].imshow(im_masked_gray)\n",
    "ax[1,2].set_title('Masked Gray Image')\n",
    "ax[2,0].imshow(im_segmented)\n",
    "ax[2,0].set_title('Segmented Image')\n",
    "ax[2,1].imshow(im_processed)\n",
    "ax[2,1].set_title('Detected Image')\n",
    "ax[2,2].imshow(im_processed)\n",
    "ax[2,2].set_title('Detected Image')\n",
    "fig.tight_layout()\n",
    "fig.show()"
   ]
  }
 ],
 "metadata": {
  "kernelspec": {
   "display_name": "Python 3.10.8 64-bit (microsoft store)",
   "language": "python",
   "name": "python3"
  },
  "language_info": {
   "codemirror_mode": {
    "name": "ipython",
    "version": 3
   },
   "file_extension": ".py",
   "mimetype": "text/x-python",
   "name": "python",
   "nbconvert_exporter": "python",
   "pygments_lexer": "ipython3",
   "version": "3.10.8"
  },
  "orig_nbformat": 4,
  "vscode": {
   "interpreter": {
    "hash": "cb1983b9c47e14b20fd028192cae604aef8398bd0de4ca61322f85dff1485603"
   }
  }
 },
 "nbformat": 4,
 "nbformat_minor": 2
}
