{
 "cells": [
  {
   "cell_type": "code",
   "execution_count": null,
   "metadata": {},
   "outputs": [],
   "source": [
    "import tdmclient.notebook\n",
    "await tdmclient.notebook.start()\n"
   ]
  },
  {
   "cell_type": "code",
   "execution_count": 1,
   "metadata": {},
   "outputs": [],
   "source": [
    "import numpy as np\n",
    "import math\n",
    "import time\n",
    "from computer_vision import *\n",
    "from dijkstra import compute_shortest_path\n",
    "from kalman import kalman_filter\n",
    "from test import pathing_bis\n",
    "\n"
   ]
  },
  {
   "cell_type": "code",
   "execution_count": 4,
   "metadata": {},
   "outputs": [],
   "source": [
    "\n",
    "def get_angle_between(vec1, vec2):\n",
    "    vec1_unit = vec1 / np.linalg.norm(vec1)\n",
    "    vec2_unit = vec2 / np.linalg.norm(vec2)\n",
    "    return np.arccos(np.dot(vec1_unit, vec2_unit))\n",
    "\n",
    "\n",
    "def pathing(position_estimate, theta_estimate, target, min_distance = 50):\n",
    "    position_history = []\n",
    "    theta_history = []\n",
    "    direction = np.array([np.cos(theta_estimate), np.sin(theta_estimate)])\n",
    "    # outputs, in mm/s\n",
    "    speed_l = 0\n",
    "    speed_r = 0\n",
    "    # in radians\n",
    "    angle_tolerance = 0.7\n",
    "    # time step(s)\n",
    "    dt = 0.01\n",
    "    # counts nb of steps\n",
    "    i = 0\n",
    "    \n",
    "    distance = math.sqrt((target[0]-position_estimate[0])**2 + (target[1]-position_estimate[1])**2)\n",
    "    while distance > min_distance:\n",
    "        depl_left = speed_l * dt \n",
    "        depl_right = speed_r * dt \n",
    "        depl_center = (depl_right + depl_left)/2\n",
    "        \n",
    "        # divided by the wheel distance(in mm) to get the angle(rad), trigonometric sense\n",
    "        theta = (depl_left - depl_right)/120\n",
    "        if theta != 0:\n",
    "            theta_estimate = (theta_estimate + theta) % (2*np.pi)\n",
    "            \n",
    "        depl_x = depl_center * np.cos(theta_estimate) \n",
    "        depl_y = depl_center * np.sin(theta_estimate)\n",
    "        position_estimate = position_estimate + np.array([depl_x, depl_y])\n",
    "        \n",
    "        # relative target vector with respect to the robot position\n",
    "        target_direction = target - position_estimate\n",
    "        direction = np.array([np.cos(theta_estimate), np.sin(theta_estimate)])\n",
    "        alpha = get_angle_between(target_direction, direction)\n",
    "        if (alpha <= angle_tolerance and alpha >= 0) or (alpha >= -angle_tolerance and alpha < 0) :\n",
    "            # move forward, mm/s\n",
    "            speed_l = 20 - 20 * np.sin(alpha)\n",
    "            speed_r = 20 + 20 * np.sin(alpha)\n",
    "        elif alpha > angle_tolerance:            \n",
    "            speed_l = -20\n",
    "            speed_r = 20\n",
    "        elif alpha < - angle_tolerance:\n",
    "            speed_l = 20\n",
    "            speed_r = -20\n",
    "    \n",
    "        distance = np.sqrt((target[0]-position_estimate[0])**2 + (target[1]-position_estimate[1])**2)\n",
    "\n",
    "        if i > 1000000 :\n",
    "            print(i, distance)\n",
    "            break\n",
    "        #print(position_estimate, distance) \n",
    "        position_history.append(position_estimate)\n",
    "        theta_history.append(theta_estimate)\n",
    "        #set_speed(speed_l, speed_r)\n",
    "        #time.sleep(dt)\n",
    "        \n",
    "        i += 1\n",
    "\n",
    "    return position_history, theta_history\n",
    "\n",
    "\n",
    "\n",
    "def pathing_bis(position_estimate, theta_estimate,  target, speed_l, speed_r, dt = 0.01):\n",
    "    angle_tolerance = 0.4\n",
    "\n",
    "    depl_left = speed_l * dt \n",
    "    depl_right = speed_r * dt \n",
    "    depl_center = (depl_right + depl_left)/2\n",
    "    theta = (depl_left - depl_right)\n",
    "    \n",
    "    if theta != 0:\n",
    "        theta_estimate = (theta_estimate + theta) % (2*np.pi)\n",
    "    \n",
    "    depl_x = depl_center * np.cos(theta_estimate) \n",
    "    depl_y = depl_center * np.sin(theta_estimate)\n",
    "    position_estimate = position_estimate + np.array([depl_x, depl_y])\n",
    "    \n",
    "    target_direction = target - position_estimate\n",
    "    direction = np.array([np.cos(theta_estimate), np.sin(theta_estimate)])\n",
    "    alpha = get_angle_between(target_direction, direction)\n",
    "\n",
    "\n",
    "    if (alpha <= angle_tolerance and alpha >= 0) or (alpha >= -angle_tolerance and alpha < 0) :\n",
    "        # move forward, mm/s\n",
    "        speed_l = 50 - 40 * np.sin(alpha)\n",
    "        speed_r = 50 + 40 * np.sin(alpha)\n",
    "    elif alpha > angle_tolerance:            \n",
    "        speed_l = -50\n",
    "        speed_r = 50 \n",
    "    elif alpha < - angle_tolerance:\n",
    "        speed_l = 50\n",
    "        speed_r = -50\n",
    "    distance = int(np.sqrt((target[0]-position_estimate[0])**2 + (target[1]-position_estimate[1])**2))\n",
    "    #set_speed(speed_l, speed_r)\n",
    "    #time.sleep(dt)\n",
    "\n",
    "    return distance, position_estimate, theta_estimate, speed_l, speed_r\n"
   ]
  },
  {
   "cell_type": "code",
   "execution_count": null,
   "metadata": {},
   "outputs": [],
   "source": []
  },
  {
   "cell_type": "code",
   "execution_count": null,
   "metadata": {},
   "outputs": [],
   "source": [
    "# set speed, in mm/s\n",
    "@tdmclient.notebook.sync_var \n",
    "def set_speed(speed_left, speed_right):\n",
    "    global output_speed_right, output_speed_left\n",
    "    # max speed is of 500, equivalent to 14cm/s = 140mm/s\n",
    "    if speed_left > 140:\n",
    "        speed_left = 140\n",
    "    if speed_right > 140:\n",
    "        speed_right = 140\n",
    "    conversion = 500/140\n",
    "    output_speed_right = int(speed_right * conversion)\n",
    "    output_speed_left = int(speed_left * conversion)\n"
   ]
  },
  {
   "cell_type": "markdown",
   "metadata": {},
   "source": [
    "# Thymio Code"
   ]
  },
  {
   "cell_type": "code",
   "execution_count": null,
   "metadata": {},
   "outputs": [],
   "source": [
    "%%run_aseba\n",
    "\n",
    "var output_speed_right = 0\n",
    "var output_speed_left  = 0\n",
    "var dt = 10\n",
    "\n",
    "var shift_left = 0\n",
    "var shift_right = 0\n",
    "\n",
    "var internal_pos_est[2] = 0,0\n",
    "\n",
    "# activates each dt ms\n",
    "timer.period[0] = dt\n",
    "# activates each 1000 ms\n",
    "timer.period[1] = dt \n",
    "\n",
    "\n",
    "# on timer0 event, we update the direction of the robot and it's motor speeds\n",
    "onevent timer0\n",
    "    # output speed\n",
    "    motor.left.target = output_speed_left\n",
    "    motor.right.target = output_speed_right\n",
    "    \n",
    "\n",
    "    "
   ]
  },
  {
   "cell_type": "markdown",
   "metadata": {},
   "source": [
    "# Overseer Code"
   ]
  },
  {
   "cell_type": "code",
   "execution_count": 6,
   "metadata": {},
   "outputs": [
    {
     "name": "stderr",
     "output_type": "stream",
     "text": [
      "C:\\Users\\osour\\AppData\\Local\\Temp\\ipykernel_16328\\687927355.py:20: UserWarning: Matplotlib is currently using module://matplotlib_inline.backend_inline, which is a non-GUI backend, so cannot show the figure.\n",
      "  fig.show()\n"
     ]
    },
    {
     "data": {
      "image/png": "[encoded data removed]",
      "text/plain": [
       "<Figure size 1200x1200 with 1 Axes>"
      ]
     },
     "metadata": {},
     "output_type": "display_data"
    },
    {
     "name": "stdout",
     "output_type": "stream",
     "text": [
      "[549.74006736 168.14563869] 6.127537738988709\n"
     ]
    }
   ],
   "source": [
    "position_estimate = np.array([0, 0])\n",
    "theta_estimate = 0\n",
    "target = [[100,100], [200, 200],[599, 160]]\n",
    "fig, ax = plt.subplots(figsize=(12,12))\n",
    "\n",
    "for tar in target:\n",
    "    pos_hist, thet_hist = pathing(position_estimate, theta_estimate, tar, min_distance=50)\n",
    "    position_estimate = pos_hist[-1]\n",
    "    theta_estimate = thet_hist[-1]\n",
    "    \n",
    "    ax.plot([p[0] for p in pos_hist], [p[1] for p in pos_hist])\n",
    "    ax.quiver(pos_hist[-1][0], pos_hist[-1][1], np.cos(theta_estimate), np.sin(theta_estimate), color='red')\n",
    "    ax.scatter(tar[0], tar[1], color = 'red', marker = 'x')\n",
    "    ax.set_xlim(-5, 1000)\n",
    "    ax.set_ylim(-1500, 1500)\n",
    "    #set_speed(0,0)\n",
    "    #time.sleep(1)\n",
    "    \n",
    "ax.grid()\n",
    "fig.show()\n",
    "plt.show()\n",
    "print(position_estimate, theta_estimate)\n",
    "#set_speed(0,0)\n"
   ]
  },
  {
   "cell_type": "code",
   "execution_count": null,
   "metadata": {},
   "outputs": [],
   "source": [
    "min_distance = 30\n",
    "path = [[150,0], [200, 400], [400, -150]]\n",
    "\n",
    "#filter = kalman_filter(state_estimate[0], state_estimate[1], state_estimate[2], state_estimate[3], state_estimate[4], state_estimate[5])\n",
    "position_estimate = [0,0]\n",
    "theta_estimate = 0\n",
    "speed_l = speed_r = 0\n",
    "theta_estimate = 0\n",
    "position_history = []\n",
    "theta_history = []\n",
    "fig, ax = plt.subplots(figsize=(8,8))\n",
    "i = 0\n",
    "for target in path:\n",
    "    distance = np.sqrt((target[0] - position_estimate[0])**2 + (target[1] - position_estimate[1])**2)\n",
    "    \n",
    "    while (distance > min_distance):\n",
    "        distance, position_estimate, theta_estimate, speed_l, speed_r = pathing_bis(position_estimate, theta_estimate, target, speed_l, speed_r)   \n",
    "        position_history.append(position_estimate)\n",
    "        theta_history.append(theta_estimate)\n",
    "        # plot path\n",
    "        ax.plot([p[0] for p in position_history], [p[1] for p in position_history])\n",
    "        ax.quiver(position_history[-1][0], position_history[-1][1], np.cos(theta_history[-1]), np.sin(theta_history[-1]), color='red')\n",
    "        ax.scatter(target[0], target[1], color = 'red', marker = 'x')\n",
    "        print(distance)\n",
    "\n",
    "\n",
    "\n",
    "ax.set_xlim(-5, 1000)\n",
    "ax.set_ylim(-1500, 1500)\n",
    "ax.grid()\n",
    "fig.show()\n"
   ]
  }
 ],
 "metadata": {
  "kernelspec": {
   "display_name": "Python 3.10.8 64-bit (microsoft store)",
   "language": "python",
   "name": "python3"
  },
  "language_info": {
   "codemirror_mode": {
    "name": "ipython",
    "version": 3
   },
   "file_extension": ".py",
   "mimetype": "text/x-python",
   "name": "python",
   "nbconvert_exporter": "python",
   "pygments_lexer": "ipython3",
   "version": "3.10.8"
  },
  "orig_nbformat": 4,
  "vscode": {
   "interpreter": {
    "hash": "cb1983b9c47e14b20fd028192cae604aef8398bd0de4ca61322f85dff1485603"
   }
  }
 },
 "nbformat": 4,
 "nbformat_minor": 2
}
